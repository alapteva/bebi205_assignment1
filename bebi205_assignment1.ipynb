{
 "cells": [
  {
   "cell_type": "markdown",
   "id": "24df66f1-6491-4b2e-8e15-9defd92d0bc3",
   "metadata": {},
   "source": [
    "# BE/Bi 205: Assignment 1 Notebook\n",
    "## Anna Lapteva"
   ]
  },
  {
   "cell_type": "markdown",
   "id": "7c0699cf-d823-4861-b95c-754031f35539",
   "metadata": {},
   "source": [
    "Below are all relevant imports, sourced from the [assignment instructions](https://vanvalenlab.github.io/bebi205/assignments/assignment-1.html), the [image processing notebook](https://vanvalenlab.github.io/bebi205/notebooks/tf-classifier.html), and the tutorial on [multiclass classification in PyTorch](https://machinelearningmastery.com/building-a-multiclass-classification-model-in-pytorch/)."
   ]
  },
  {
   "cell_type": "code",
   "execution_count": 1,
   "id": "860ff9e6-0b3b-481c-905f-17c090f527ff",
   "metadata": {
    "tags": []
   },
   "outputs": [
    {
     "name": "stderr",
     "output_type": "stream",
     "text": [
      "2023-04-24 08:17:28.452042: I tensorflow/tsl/cuda/cudart_stub.cc:28] Could not find cuda drivers on your machine, GPU will not be used.\n",
      "2023-04-24 08:17:28.508751: I tensorflow/tsl/cuda/cudart_stub.cc:28] Could not find cuda drivers on your machine, GPU will not be used.\n",
      "2023-04-24 08:17:28.509765: I tensorflow/core/platform/cpu_feature_guard.cc:182] This TensorFlow binary is optimized to use available CPU instructions in performance-critical operations.\n",
      "To enable the following instructions: AVX2 FMA, in other operations, rebuild TensorFlow with the appropriate compiler flags.\n",
      "2023-04-24 08:17:29.309793: W tensorflow/compiler/tf2tensorrt/utils/py_utils.cc:38] TF-TRT Warning: Could not find TensorRT\n",
      "2023-04-24 08:17:30.008027: I tensorflow/compiler/xla/stream_executor/cuda/cuda_gpu_executor.cc:996] successful NUMA node read from SysFS had negative value (-1), but there must be at least one NUMA node, so returning NUMA node zero. See more at https://github.com/torvalds/linux/blob/v6.0/Documentation/ABI/testing/sysfs-bus-pci#L344-L355\n",
      "2023-04-24 08:17:30.011714: W tensorflow/core/common_runtime/gpu/gpu_device.cc:1956] Cannot dlopen some GPU libraries. Please make sure the missing libraries mentioned above are installed properly if you would like to use GPU. Follow the guide at https://www.tensorflow.org/install/gpu for how to download and setup the required libraries for your platform.\n",
      "Skipping registering GPU devices...\n",
      "/root/mambaforge/envs/bebi205/lib/python3.10/site-packages/tensorflow_addons/utils/tfa_eol_msg.py:23: UserWarning: \n",
      "\n",
      "TensorFlow Addons (TFA) has ended development and introduction of new features.\n",
      "TFA has entered a minimal maintenance and release mode until a planned end of life in May 2024.\n",
      "Please modify downstream libraries to take dependencies from other repositories in our TensorFlow community (e.g. Keras, Keras-CV, and Keras-NLP). \n",
      "\n",
      "For more information see: https://github.com/tensorflow/addons/issues/2807 \n",
      "\n",
      "  warnings.warn(\n"
     ]
    }
   ],
   "source": [
    "# Computation and data handling\n",
    "import numpy as np\n",
    "import pandas as pd\n",
    "import yaml\n",
    "import os\n",
    "import glob\n",
    "from tqdm import tqdm\n",
    "from tqdm import trange\n",
    "import copy\n",
    "\n",
    "# Plotting\n",
    "import seaborn as sns\n",
    "import matplotlib.pyplot as plt\n",
    "\n",
    "# Neural network\n",
    "import skimage\n",
    "from skimage import measure\n",
    "import sklearn.model_selection\n",
    "import skimage.color\n",
    "import skimage.transform\n",
    "\n",
    "import tensorflow as tf\n",
    "import tensorflow as tf\n",
    "gpus = tf.config.experimental.list_physical_devices('GPU')\n",
    "for gpu in gpus:\n",
    "      tf.config.experimental.set_memory_growth(gpu, True)\n",
    "        \n",
    "import tensorflow_addons as tfa\n",
    "\n",
    "from tensorflow.keras.layers import Input, Flatten, Dense, Activation, BatchNormalization, Conv2D, MaxPool2D, Softmax\n",
    "from tensorflow.keras import Model\n",
    "\n",
    "import torch\n",
    "import torch.nn as nn\n",
    "import torch.nn.functional\n",
    "import torch.optim as optim"
   ]
  },
  {
   "cell_type": "markdown",
   "id": "0e1d9346-5f8a-4a48-8264-e2643a6e3634",
   "metadata": {},
   "source": [
    "Since the map from cell number to type is used throughout this notebook, I will load it here."
   ]
  },
  {
   "cell_type": "code",
   "execution_count": 2,
   "id": "d5ee4b60-f874-4f54-bc81-d10a760c613c",
   "metadata": {
    "tags": []
   },
   "outputs": [],
   "source": [
    "with open(\"keren/meta.yaml\", \"r\") as stream:\n",
    "    try:\n",
    "        metadata = yaml.safe_load(stream)\n",
    "    except yaml.YAMLError as exc:\n",
    "        print(exc)"
   ]
  },
  {
   "cell_type": "markdown",
   "id": "003c7099-1ffc-4010-8ad4-39ccc4504eab",
   "metadata": {},
   "source": [
    "I will also load the data from the .npz files in the keren folder so that we can easily use it later."
   ]
  },
  {
   "cell_type": "code",
   "execution_count": 3,
   "id": "c39b3f65-a769-495c-b1a8-62a86d474a66",
   "metadata": {
    "tags": []
   },
   "outputs": [],
   "source": [
    "directory = \"./keren/\"\n",
    "data_files = os.chdir(directory)\n",
    "npz_data = [file for file in glob.glob(\"*.npz\")]"
   ]
  },
  {
   "cell_type": "markdown",
   "id": "be9fbed1-250c-4015-873d-2e68462be4c1",
   "metadata": {
    "tags": []
   },
   "source": [
    "### Marker Expression Plot\n",
    "\n",
    "I'll define functions that make our life easier for loading in and processing the data used for the marker expression plot."
   ]
  },
  {
   "cell_type": "code",
   "execution_count": 4,
   "id": "a2730925-9150-416a-8d99-5d01d45ed915",
   "metadata": {
    "tags": []
   },
   "outputs": [],
   "source": [
    "def get_file(file):\n",
    "    '''Load .npz file from list of files in keren.'''\n",
    "    with np.load(file, allow_pickle=True) as data:\n",
    "        X = data[\"X\"]\n",
    "        y = data[\"y\"]\n",
    "        cell_types = data[\"cell_types\"].item()\n",
    "    return X, y, cell_types\n",
    "        \n",
    "        \n",
    "def normalize_data(X):\n",
    "    '''Normalize X data by dividing data within channel by maximum value of that channel.'''\n",
    "    flattened_X = np.reshape(X[0], (X[0].shape[0]*X[0].shape[1], X[0].shape[2]))\n",
    "    maxValsX = np.max(flattened_X, axis=0)\n",
    "    maxValsX[maxValsX == 0] = 1\n",
    "    return X / maxValsX\n",
    "\n",
    "\n",
    "def training_DF(normalized_X, y, cell_types):\n",
    "    '''Create training DataFrame from nuclear segmentation data and normalized X data.'''\n",
    "    # Retrieve nuclear segmentation data\n",
    "    cellData = y[0,...,0]\n",
    "    \n",
    "    # Create DataFrame of mean intensities\n",
    "    df1 = pd.DataFrame(\n",
    "    measure.regionprops_table(cellData, intensity_image=normalized_X[0], properties=['label','mean_intensity'],\n",
    "    )).set_index('label')\n",
    "    \n",
    "    # Add cell types\n",
    "    cellTypes = np.array([cell_types[i] for i in df1.index.values])\n",
    "    df1[\"cell type\"] = cellTypes\n",
    "    \n",
    "    # Add channel names\n",
    "    dictChannels = {}\n",
    "    for j in range(len(metadata['channels'])):\n",
    "        dictChannels[df1.columns.values[j]] = metadata['channels'][j]\n",
    "\n",
    "    # Rename columns to channel names\n",
    "    df2 = df1.rename(columns=dictChannels)\n",
    "    \n",
    "    return df2\n",
    "\n",
    "def generate_training_df(list_files):\n",
    "    '''Put everything together to generate final training dataset containing data from all files.'''\n",
    "    # Initialize counter for data-generating purposes\n",
    "    counter = 0\n",
    "    \n",
    "    # Iterate through files in list\n",
    "    for file in tqdm(list_files):\n",
    "        counter += 1\n",
    "        X, y, cell_types = get_file(file)\n",
    "        \n",
    "        # Normalize X data\n",
    "        normalized_X = normalize_data(X)\n",
    "\n",
    "        # Generate training dataframe\n",
    "        init_tdf = training_DF(normalized_X, y, cell_types)\n",
    "\n",
    "        # If first file, initialize training dataframe. Otherwise, concatenate\n",
    "        if counter == 1:\n",
    "            fin_tdf = init_tdf\n",
    "        else:\n",
    "            fin_tdf = pd.concat([fin_tdf, init_tdf], axis=0)\n",
    "        \n",
    "    # Set cell type as the index\n",
    "    final_tdf = fin_tdf.set_index(\"cell type\")\n",
    "    grouped_DF = final_tdf.groupby(\"cell type\")\n",
    "    training_data = grouped_DF.mean()\n",
    "    \n",
    "    # Return data ready for plotting\n",
    "    return training_data"
   ]
  },
  {
   "cell_type": "markdown",
   "id": "cb25ab35-8607-4a25-8f52-c3b4e8936a31",
   "metadata": {},
   "source": [
    "Now, let's generate our training data and build a marker expression plot!"
   ]
  },
  {
   "cell_type": "code",
   "execution_count": 5,
   "id": "42c67bf4-573b-4d97-9401-7c37c9bbdb1f",
   "metadata": {
    "tags": []
   },
   "outputs": [
    {
     "name": "stderr",
     "output_type": "stream",
     "text": [
      "100%|███████████████████████████████████████████| 40/40 [03:59<00:00,  5.99s/it]\n"
     ]
    }
   ],
   "source": [
    "# Generate training data\n",
    "training_data = generate_training_df(npz_data)"
   ]
  },
  {
   "cell_type": "markdown",
   "id": "65b0d89c-3b93-49a6-9cfc-2db57f746f34",
   "metadata": {},
   "source": [
    "Equipped with this training data, we can create a marker expression plot."
   ]
  },
  {
   "cell_type": "code",
   "execution_count": 6,
   "id": "213002a9-a140-4deb-a203-eecab8df4c24",
   "metadata": {},
   "outputs": [
    {
     "data": {
      "image/png": "[encoded data removed]",
      "text/plain": [
       "<Figure size 1600x800 with 2 Axes>"
      ]
     },
     "metadata": {},
     "output_type": "display_data"
    }
   ],
   "source": [
    "# Change numerical cell type ticks to cell names\n",
    "y_axis = [metadata['cell_types'][i] for i in range(1, len(metadata['cell_types']))]\n",
    "\n",
    "# Initialize heatmap and adjust plot\n",
    "fig, ax = plt.subplots(figsize=(16,8))\n",
    "s = sns.heatmap(training_data, cmap='magma', yticklabels=y_axis)\n",
    "s.set(xlabel=\"Marker\", ylabel=\"Cell Type\")\n",
    "plt.xticks(rotation=90)\n",
    "\n",
    "# Show the results\n",
    "plt.show(s)"
   ]
  },
  {
   "cell_type": "markdown",
   "id": "e08c0326-a144-4ae5-b634-15bb9c05bb8c",
   "metadata": {},
   "source": [
    "Using this expression plot, we can deduce which channels are useful for us to keep. To automate the process, we compute the variance for each channel by taking `np.var` along `axis=0` (the columns), then using `np.argsort` to get the indices that would sort the array. To get the 20 channels with the most spread in intensity, we take the 31th element to the end of the array, which gives us an array of the columns/channels that we want to keep. We will call this list `sorting`."
   ]
  },
  {
   "cell_type": "code",
   "execution_count": 7,
   "id": "3163ac8c-6cdc-4598-b8a9-19d03d93fc1b",
   "metadata": {
    "tags": []
   },
   "outputs": [],
   "source": [
    "sorting = np.argsort(np.var(training_data.to_numpy(), axis=0))[31:]"
   ]
  },
  {
   "cell_type": "markdown",
   "id": "7405c53c-c406-4744-a87c-c3e3977d5738",
   "metadata": {
    "tags": []
   },
   "source": [
    "### Fully Connected Neural Network in TensorFlow\n",
    "\n",
    "To generate this fully connected model, I am adapting code from the notebook on [image classification](https://vanvalenlab.github.io/bebi205/notebooks/tf-classifier.html) from the course website. First, I'll define a function that helps generate our training data for the neural network. This training data will take the form of averages for every channel for each cell."
   ]
  },
  {
   "cell_type": "code",
   "execution_count": 8,
   "id": "1dd7c5ed-6a9f-4b3d-98c7-c9cf2af3a74b",
   "metadata": {
    "tags": []
   },
   "outputs": [],
   "source": [
    "def generate_training_df_NN(list_files):\n",
    "    '''Generate training data set with averages for each channel per cell.'''\n",
    "    # Initialize counter for data-generating purposes\n",
    "    counter = 0\n",
    "    \n",
    "    # Iterate through files in list\n",
    "    for file in tqdm(list_files):\n",
    "        counter += 1\n",
    "        X, y, cell_types = get_file(file)\n",
    "        \n",
    "        # Normalize X data\n",
    "        normalized_X = normalize_data(X)\n",
    "\n",
    "        # Generate training dataframe\n",
    "        init_tdf = training_DF(normalized_X, y, cell_types)\n",
    "\n",
    "        # If first file, initialize training dataframe. Otherwise, concatenate\n",
    "        if counter == 1:\n",
    "            fin_tdf = init_tdf\n",
    "        else:\n",
    "            fin_tdf = pd.concat([fin_tdf, init_tdf], axis=0)\n",
    "        \n",
    "    # Set cell type as the index\n",
    "    final_tdf = fin_tdf.set_index(\"cell type\")\n",
    "    \n",
    "    # All columns\n",
    "    allCols = np.array(list(range(0,51)))\n",
    "    colstodelete = np.setdiff1d(allCols, sorting)\n",
    "\n",
    "    # Return dataframe with only desired channels\n",
    "    final_tdf = final_tdf.drop(final_tdf.columns[colstodelete], axis=1)\n",
    "    \n",
    "    # Return data ready for plotting\n",
    "    return final_tdf"
   ]
  },
  {
   "cell_type": "markdown",
   "id": "c42523a1-32f7-465f-8243-54c245f99327",
   "metadata": {},
   "source": [
    "Using this function, let's generate the training data."
   ]
  },
  {
   "cell_type": "code",
   "execution_count": 9,
   "id": "d9063245-7e06-4fc3-ac54-7f71c34f9d18",
   "metadata": {
    "tags": []
   },
   "outputs": [
    {
     "name": "stderr",
     "output_type": "stream",
     "text": [
      "100%|███████████████████████████████████████████| 40/40 [03:58<00:00,  5.97s/it]\n"
     ]
    }
   ],
   "source": [
    "trn_data = generate_training_df_NN(npz_data)"
   ]
  },
  {
   "cell_type": "markdown",
   "id": "c8bc63b9-8aa6-4ec3-81ea-02bc841561e0",
   "metadata": {},
   "source": [
    "Let's save our data to a CSV for reference, although we create the data we use to train the model in this notebook."
   ]
  },
  {
   "cell_type": "code",
   "execution_count": 10,
   "id": "e0174a75-89d1-43b1-87db-693f826b8c72",
   "metadata": {
    "tags": []
   },
   "outputs": [],
   "source": [
    "trn_data.to_csv('trn_data.csv')"
   ]
  },
  {
   "cell_type": "markdown",
   "id": "953829fc-5a37-4bc1-896e-9df72538d15d",
   "metadata": {
    "tags": []
   },
   "source": [
    "Let's implement the rest of the code from the image processing notebook below."
   ]
  },
  {
   "cell_type": "code",
   "execution_count": 11,
   "id": "7ce3aa0e-3278-4248-9c26-5369b4778a6b",
   "metadata": {},
   "outputs": [
    {
     "name": "stdout",
     "output_type": "stream",
     "text": [
      "Epoch 1/32\n"
     ]
    },
    {
     "name": "stderr",
     "output_type": "stream",
     "text": [
      "2023-04-24 08:25:34.963019: I tensorflow/core/common_runtime/executor.cc:1197] [/device:CPU:0] (DEBUG INFO) Executor start aborting (this does not indicate an error and you can ignore this message): INVALID_ARGUMENT: You must feed a value for placeholder tensor 'Placeholder/_0' with dtype double and shape [163426,20]\n",
      "\t [[{{node Placeholder/_0}}]]\n",
      "2023-04-24 08:25:34.963428: I tensorflow/core/common_runtime/executor.cc:1197] [/device:CPU:0] (DEBUG INFO) Executor start aborting (this does not indicate an error and you can ignore this message): INVALID_ARGUMENT: You must feed a value for placeholder tensor 'Placeholder/_1' with dtype float and shape [163426,18]\n",
      "\t [[{{node Placeholder/_1}}]]\n"
     ]
    },
    {
     "name": "stdout",
     "output_type": "stream",
     "text": [
      "5089/5108 [============================>.] - ETA: 0s - loss: 1.2322 - accuracy: 0.6371"
     ]
    },
    {
     "name": "stderr",
     "output_type": "stream",
     "text": [
      "2023-04-24 08:25:44.228859: I tensorflow/core/common_runtime/executor.cc:1197] [/device:CPU:0] (DEBUG INFO) Executor start aborting (this does not indicate an error and you can ignore this message): INVALID_ARGUMENT: You must feed a value for placeholder tensor 'Placeholder/_1' with dtype float and shape [20428,18]\n",
      "\t [[{{node Placeholder/_1}}]]\n"
     ]
    },
    {
     "name": "stdout",
     "output_type": "stream",
     "text": [
      "\n",
      "Epoch 1: val_loss improved from inf to 1.04844, saving model to /data/models/bebi205/fc\n"
     ]
    },
    {
     "name": "stderr",
     "output_type": "stream",
     "text": [
      "WARNING:absl:Found untraced functions such as _update_step_xla while saving (showing 1 of 1). These functions will not be directly callable after loading.\n"
     ]
    },
    {
     "name": "stdout",
     "output_type": "stream",
     "text": [
      "INFO:tensorflow:Assets written to: /data/models/bebi205/fc/assets\n"
     ]
    },
    {
     "name": "stderr",
     "output_type": "stream",
     "text": [
      "INFO:tensorflow:Assets written to: /data/models/bebi205/fc/assets\n"
     ]
    },
    {
     "name": "stdout",
     "output_type": "stream",
     "text": [
      "5108/5108 [==============================] - 11s 2ms/step - loss: 1.2315 - accuracy: 0.6373 - val_loss: 1.0484 - val_accuracy: 0.6787 - lr: 0.0010\n",
      "Epoch 2/32\n",
      "5099/5108 [============================>.] - ETA: 0s - loss: 1.0433 - accuracy: 0.6785\n",
      "Epoch 2: val_loss improved from 1.04844 to 1.03486, saving model to /data/models/bebi205/fc\n"
     ]
    },
    {
     "name": "stderr",
     "output_type": "stream",
     "text": [
      "WARNING:absl:Found untraced functions such as _update_step_xla while saving (showing 1 of 1). These functions will not be directly callable after loading.\n"
     ]
    },
    {
     "name": "stdout",
     "output_type": "stream",
     "text": [
      "INFO:tensorflow:Assets written to: /data/models/bebi205/fc/assets\n"
     ]
    },
    {
     "name": "stderr",
     "output_type": "stream",
     "text": [
      "INFO:tensorflow:Assets written to: /data/models/bebi205/fc/assets\n"
     ]
    },
    {
     "name": "stdout",
     "output_type": "stream",
     "text": [
      "5108/5108 [==============================] - 10s 2ms/step - loss: 1.0431 - accuracy: 0.6785 - val_loss: 1.0349 - val_accuracy: 0.6796 - lr: 0.0010\n",
      "Epoch 3/32\n",
      "5097/5108 [============================>.] - ETA: 0s - loss: 1.0138 - accuracy: 0.6871\n",
      "Epoch 3: val_loss improved from 1.03486 to 1.01648, saving model to /data/models/bebi205/fc\n"
     ]
    },
    {
     "name": "stderr",
     "output_type": "stream",
     "text": [
      "WARNING:absl:Found untraced functions such as _update_step_xla while saving (showing 1 of 1). These functions will not be directly callable after loading.\n"
     ]
    },
    {
     "name": "stdout",
     "output_type": "stream",
     "text": [
      "INFO:tensorflow:Assets written to: /data/models/bebi205/fc/assets\n"
     ]
    },
    {
     "name": "stderr",
     "output_type": "stream",
     "text": [
      "INFO:tensorflow:Assets written to: /data/models/bebi205/fc/assets\n"
     ]
    },
    {
     "name": "stdout",
     "output_type": "stream",
     "text": [
      "5108/5108 [==============================] - 10s 2ms/step - loss: 1.0139 - accuracy: 0.6870 - val_loss: 1.0165 - val_accuracy: 0.6878 - lr: 0.0010\n",
      "Epoch 4/32\n",
      "5105/5108 [============================>.] - ETA: 0s - loss: 0.9966 - accuracy: 0.6922\n",
      "Epoch 4: val_loss did not improve from 1.01648\n",
      "5108/5108 [==============================] - 9s 2ms/step - loss: 0.9967 - accuracy: 0.6922 - val_loss: 1.0424 - val_accuracy: 0.6798 - lr: 0.0010\n",
      "Epoch 5/32\n",
      "5096/5108 [============================>.] - ETA: 0s - loss: 0.9881 - accuracy: 0.6933\n",
      "Epoch 5: val_loss did not improve from 1.01648\n",
      "5108/5108 [==============================] - 9s 2ms/step - loss: 0.9881 - accuracy: 0.6933 - val_loss: 1.1114 - val_accuracy: 0.6800 - lr: 0.0010\n",
      "Epoch 6/32\n",
      "5077/5108 [============================>.] - ETA: 0s - loss: 0.9805 - accuracy: 0.6958\n",
      "Epoch 6: val_loss improved from 1.01648 to 1.01498, saving model to /data/models/bebi205/fc\n"
     ]
    },
    {
     "name": "stderr",
     "output_type": "stream",
     "text": [
      "WARNING:absl:Found untraced functions such as _update_step_xla while saving (showing 1 of 1). These functions will not be directly callable after loading.\n"
     ]
    },
    {
     "name": "stdout",
     "output_type": "stream",
     "text": [
      "INFO:tensorflow:Assets written to: /data/models/bebi205/fc/assets\n"
     ]
    },
    {
     "name": "stderr",
     "output_type": "stream",
     "text": [
      "INFO:tensorflow:Assets written to: /data/models/bebi205/fc/assets\n"
     ]
    },
    {
     "name": "stdout",
     "output_type": "stream",
     "text": [
      "5108/5108 [==============================] - 10s 2ms/step - loss: 0.9800 - accuracy: 0.6959 - val_loss: 1.0150 - val_accuracy: 0.6868 - lr: 0.0010\n",
      "Epoch 7/32\n",
      "5103/5108 [============================>.] - ETA: 0s - loss: 0.9745 - accuracy: 0.6970\n",
      "Epoch 7: val_loss did not improve from 1.01498\n",
      "5108/5108 [==============================] - 9s 2ms/step - loss: 0.9744 - accuracy: 0.6970 - val_loss: 1.0158 - val_accuracy: 0.6881 - lr: 0.0010\n",
      "Epoch 8/32\n",
      "5097/5108 [============================>.] - ETA: 0s - loss: 0.9687 - accuracy: 0.6984\n",
      "Epoch 8: val_loss improved from 1.01498 to 1.00165, saving model to /data/models/bebi205/fc\n"
     ]
    },
    {
     "name": "stderr",
     "output_type": "stream",
     "text": [
      "WARNING:absl:Found untraced functions such as _update_step_xla while saving (showing 1 of 1). These functions will not be directly callable after loading.\n"
     ]
    },
    {
     "name": "stdout",
     "output_type": "stream",
     "text": [
      "INFO:tensorflow:Assets written to: /data/models/bebi205/fc/assets\n"
     ]
    },
    {
     "name": "stderr",
     "output_type": "stream",
     "text": [
      "INFO:tensorflow:Assets written to: /data/models/bebi205/fc/assets\n"
     ]
    },
    {
     "name": "stdout",
     "output_type": "stream",
     "text": [
      "5108/5108 [==============================] - 10s 2ms/step - loss: 0.9687 - accuracy: 0.6984 - val_loss: 1.0016 - val_accuracy: 0.7006 - lr: 0.0010\n",
      "Epoch 9/32\n",
      "5089/5108 [============================>.] - ETA: 0s - loss: 0.9659 - accuracy: 0.6989\n",
      "Epoch 9: val_loss improved from 1.00165 to 0.95247, saving model to /data/models/bebi205/fc\n"
     ]
    },
    {
     "name": "stderr",
     "output_type": "stream",
     "text": [
      "WARNING:absl:Found untraced functions such as _update_step_xla while saving (showing 1 of 1). These functions will not be directly callable after loading.\n"
     ]
    },
    {
     "name": "stdout",
     "output_type": "stream",
     "text": [
      "INFO:tensorflow:Assets written to: /data/models/bebi205/fc/assets\n"
     ]
    },
    {
     "name": "stderr",
     "output_type": "stream",
     "text": [
      "INFO:tensorflow:Assets written to: /data/models/bebi205/fc/assets\n"
     ]
    },
    {
     "name": "stdout",
     "output_type": "stream",
     "text": [
      "5108/5108 [==============================] - 10s 2ms/step - loss: 0.9658 - accuracy: 0.6989 - val_loss: 0.9525 - val_accuracy: 0.7023 - lr: 0.0010\n",
      "Epoch 10/32\n",
      "5100/5108 [============================>.] - ETA: 0s - loss: 0.9613 - accuracy: 0.6993\n",
      "Epoch 10: val_loss did not improve from 0.95247\n",
      "5108/5108 [==============================] - 9s 2ms/step - loss: 0.9612 - accuracy: 0.6994 - val_loss: 0.9919 - val_accuracy: 0.6927 - lr: 0.0010\n",
      "Epoch 11/32\n",
      "5103/5108 [============================>.] - ETA: 0s - loss: 0.9594 - accuracy: 0.7005\n",
      "Epoch 11: val_loss did not improve from 0.95247\n",
      "5108/5108 [==============================] - 9s 2ms/step - loss: 0.9593 - accuracy: 0.7005 - val_loss: 0.9930 - val_accuracy: 0.6930 - lr: 0.0010\n",
      "Epoch 12/32\n",
      "5102/5108 [============================>.] - ETA: 0s - loss: 0.9552 - accuracy: 0.7005\n",
      "Epoch 12: val_loss did not improve from 0.95247\n",
      "\n",
      "Epoch 12: ReduceLROnPlateau reducing learning rate to 0.0005000000237487257.\n",
      "5108/5108 [==============================] - 9s 2ms/step - loss: 0.9550 - accuracy: 0.7005 - val_loss: 0.9692 - val_accuracy: 0.6999 - lr: 0.0010\n",
      "Epoch 13/32\n",
      "5091/5108 [============================>.] - ETA: 0s - loss: 0.9460 - accuracy: 0.7033\n",
      "Epoch 13: val_loss improved from 0.95247 to 0.93266, saving model to /data/models/bebi205/fc\n"
     ]
    },
    {
     "name": "stderr",
     "output_type": "stream",
     "text": [
      "WARNING:absl:Found untraced functions such as _update_step_xla while saving (showing 1 of 1). These functions will not be directly callable after loading.\n"
     ]
    },
    {
     "name": "stdout",
     "output_type": "stream",
     "text": [
      "INFO:tensorflow:Assets written to: /data/models/bebi205/fc/assets\n"
     ]
    },
    {
     "name": "stderr",
     "output_type": "stream",
     "text": [
      "INFO:tensorflow:Assets written to: /data/models/bebi205/fc/assets\n"
     ]
    },
    {
     "name": "stdout",
     "output_type": "stream",
     "text": [
      "5108/5108 [==============================] - 10s 2ms/step - loss: 0.9459 - accuracy: 0.7034 - val_loss: 0.9327 - val_accuracy: 0.7060 - lr: 5.0000e-04\n",
      "Epoch 14/32\n",
      "5095/5108 [============================>.] - ETA: 0s - loss: 0.9454 - accuracy: 0.7035\n",
      "Epoch 14: val_loss improved from 0.93266 to 0.93172, saving model to /data/models/bebi205/fc\n"
     ]
    },
    {
     "name": "stderr",
     "output_type": "stream",
     "text": [
      "WARNING:absl:Found untraced functions such as _update_step_xla while saving (showing 1 of 1). These functions will not be directly callable after loading.\n"
     ]
    },
    {
     "name": "stdout",
     "output_type": "stream",
     "text": [
      "INFO:tensorflow:Assets written to: /data/models/bebi205/fc/assets\n"
     ]
    },
    {
     "name": "stderr",
     "output_type": "stream",
     "text": [
      "INFO:tensorflow:Assets written to: /data/models/bebi205/fc/assets\n"
     ]
    },
    {
     "name": "stdout",
     "output_type": "stream",
     "text": [
      "5108/5108 [==============================] - 10s 2ms/step - loss: 0.9453 - accuracy: 0.7035 - val_loss: 0.9317 - val_accuracy: 0.7055 - lr: 5.0000e-04\n",
      "Epoch 15/32\n",
      "5101/5108 [============================>.] - ETA: 0s - loss: 0.9422 - accuracy: 0.7047\n",
      "Epoch 15: val_loss did not improve from 0.93172\n",
      "5108/5108 [==============================] - 9s 2ms/step - loss: 0.9424 - accuracy: 0.7046 - val_loss: 0.9358 - val_accuracy: 0.7062 - lr: 5.0000e-04\n",
      "Epoch 16/32\n",
      "5097/5108 [============================>.] - ETA: 0s - loss: 0.9445 - accuracy: 0.7034\n",
      "Epoch 16: val_loss did not improve from 0.93172\n",
      "5108/5108 [==============================] - 9s 2ms/step - loss: 0.9445 - accuracy: 0.7034 - val_loss: 0.9349 - val_accuracy: 0.7062 - lr: 5.0000e-04\n",
      "Epoch 17/32\n",
      "5100/5108 [============================>.] - ETA: 0s - loss: 0.9408 - accuracy: 0.7040\n",
      "Epoch 17: val_loss did not improve from 0.93172\n",
      "\n",
      "Epoch 17: ReduceLROnPlateau reducing learning rate to 0.0002500000118743628.\n",
      "5108/5108 [==============================] - 9s 2ms/step - loss: 0.9409 - accuracy: 0.7039 - val_loss: 0.9339 - val_accuracy: 0.7066 - lr: 5.0000e-04\n",
      "Epoch 18/32\n",
      "5101/5108 [============================>.] - ETA: 0s - loss: 0.9378 - accuracy: 0.7049\n",
      "Epoch 18: val_loss improved from 0.93172 to 0.91913, saving model to /data/models/bebi205/fc\n"
     ]
    },
    {
     "name": "stderr",
     "output_type": "stream",
     "text": [
      "WARNING:absl:Found untraced functions such as _update_step_xla while saving (showing 1 of 1). These functions will not be directly callable after loading.\n"
     ]
    },
    {
     "name": "stdout",
     "output_type": "stream",
     "text": [
      "INFO:tensorflow:Assets written to: /data/models/bebi205/fc/assets\n"
     ]
    },
    {
     "name": "stderr",
     "output_type": "stream",
     "text": [
      "INFO:tensorflow:Assets written to: /data/models/bebi205/fc/assets\n"
     ]
    },
    {
     "name": "stdout",
     "output_type": "stream",
     "text": [
      "5108/5108 [==============================] - 10s 2ms/step - loss: 0.9377 - accuracy: 0.7049 - val_loss: 0.9191 - val_accuracy: 0.7078 - lr: 2.5000e-04\n",
      "Epoch 19/32\n",
      "5098/5108 [============================>.] - ETA: 0s - loss: 0.9382 - accuracy: 0.7047\n",
      "Epoch 19: val_loss did not improve from 0.91913\n",
      "5108/5108 [==============================] - 9s 2ms/step - loss: 0.9379 - accuracy: 0.7048 - val_loss: 0.9256 - val_accuracy: 0.7071 - lr: 2.5000e-04\n",
      "Epoch 20/32\n",
      "5100/5108 [============================>.] - ETA: 0s - loss: 0.9382 - accuracy: 0.7045\n",
      "Epoch 20: val_loss did not improve from 0.91913\n",
      "5108/5108 [==============================] - 9s 2ms/step - loss: 0.9381 - accuracy: 0.7046 - val_loss: 0.9203 - val_accuracy: 0.7069 - lr: 2.5000e-04\n",
      "Epoch 21/32\n",
      "5078/5108 [============================>.] - ETA: 0s - loss: 0.9374 - accuracy: 0.7050\n",
      "Epoch 21: val_loss improved from 0.91913 to 0.91739, saving model to /data/models/bebi205/fc\n"
     ]
    },
    {
     "name": "stderr",
     "output_type": "stream",
     "text": [
      "WARNING:absl:Found untraced functions such as _update_step_xla while saving (showing 1 of 1). These functions will not be directly callable after loading.\n"
     ]
    },
    {
     "name": "stdout",
     "output_type": "stream",
     "text": [
      "INFO:tensorflow:Assets written to: /data/models/bebi205/fc/assets\n"
     ]
    },
    {
     "name": "stderr",
     "output_type": "stream",
     "text": [
      "INFO:tensorflow:Assets written to: /data/models/bebi205/fc/assets\n"
     ]
    },
    {
     "name": "stdout",
     "output_type": "stream",
     "text": [
      "5108/5108 [==============================] - 10s 2ms/step - loss: 0.9371 - accuracy: 0.7051 - val_loss: 0.9174 - val_accuracy: 0.7095 - lr: 2.5000e-04\n",
      "Epoch 22/32\n",
      "5089/5108 [============================>.] - ETA: 0s - loss: 0.9374 - accuracy: 0.7046\n",
      "Epoch 22: val_loss improved from 0.91739 to 0.91704, saving model to /data/models/bebi205/fc\n"
     ]
    },
    {
     "name": "stderr",
     "output_type": "stream",
     "text": [
      "WARNING:absl:Found untraced functions such as _update_step_xla while saving (showing 1 of 1). These functions will not be directly callable after loading.\n"
     ]
    },
    {
     "name": "stdout",
     "output_type": "stream",
     "text": [
      "INFO:tensorflow:Assets written to: /data/models/bebi205/fc/assets\n"
     ]
    },
    {
     "name": "stderr",
     "output_type": "stream",
     "text": [
      "INFO:tensorflow:Assets written to: /data/models/bebi205/fc/assets\n"
     ]
    },
    {
     "name": "stdout",
     "output_type": "stream",
     "text": [
      "5108/5108 [==============================] - 10s 2ms/step - loss: 0.9373 - accuracy: 0.7047 - val_loss: 0.9170 - val_accuracy: 0.7099 - lr: 2.5000e-04\n",
      "Epoch 23/32\n",
      "5080/5108 [============================>.] - ETA: 0s - loss: 0.9357 - accuracy: 0.7053\n",
      "Epoch 23: val_loss did not improve from 0.91704\n",
      "5108/5108 [==============================] - 9s 2ms/step - loss: 0.9355 - accuracy: 0.7054 - val_loss: 0.9304 - val_accuracy: 0.7067 - lr: 2.5000e-04\n",
      "Epoch 24/32\n",
      "5091/5108 [============================>.] - ETA: 0s - loss: 0.9351 - accuracy: 0.7057\n",
      "Epoch 24: val_loss improved from 0.91704 to 0.91568, saving model to /data/models/bebi205/fc\n"
     ]
    },
    {
     "name": "stderr",
     "output_type": "stream",
     "text": [
      "WARNING:absl:Found untraced functions such as _update_step_xla while saving (showing 1 of 1). These functions will not be directly callable after loading.\n"
     ]
    },
    {
     "name": "stdout",
     "output_type": "stream",
     "text": [
      "INFO:tensorflow:Assets written to: /data/models/bebi205/fc/assets\n"
     ]
    },
    {
     "name": "stderr",
     "output_type": "stream",
     "text": [
      "INFO:tensorflow:Assets written to: /data/models/bebi205/fc/assets\n"
     ]
    },
    {
     "name": "stdout",
     "output_type": "stream",
     "text": [
      "5108/5108 [==============================] - 10s 2ms/step - loss: 0.9349 - accuracy: 0.7057 - val_loss: 0.9157 - val_accuracy: 0.7110 - lr: 2.5000e-04\n",
      "Epoch 25/32\n",
      "5082/5108 [============================>.] - ETA: 0s - loss: 0.9335 - accuracy: 0.7049\n",
      "Epoch 25: val_loss did not improve from 0.91568\n",
      "5108/5108 [==============================] - 9s 2ms/step - loss: 0.9334 - accuracy: 0.7050 - val_loss: 0.9160 - val_accuracy: 0.7099 - lr: 2.5000e-04\n",
      "Epoch 26/32\n",
      "5105/5108 [============================>.] - ETA: 0s - loss: 0.9351 - accuracy: 0.7054\n",
      "Epoch 26: val_loss improved from 0.91568 to 0.91214, saving model to /data/models/bebi205/fc\n"
     ]
    },
    {
     "name": "stderr",
     "output_type": "stream",
     "text": [
      "WARNING:absl:Found untraced functions such as _update_step_xla while saving (showing 1 of 1). These functions will not be directly callable after loading.\n"
     ]
    },
    {
     "name": "stdout",
     "output_type": "stream",
     "text": [
      "INFO:tensorflow:Assets written to: /data/models/bebi205/fc/assets\n"
     ]
    },
    {
     "name": "stderr",
     "output_type": "stream",
     "text": [
      "INFO:tensorflow:Assets written to: /data/models/bebi205/fc/assets\n"
     ]
    },
    {
     "name": "stdout",
     "output_type": "stream",
     "text": [
      "5108/5108 [==============================] - 10s 2ms/step - loss: 0.9350 - accuracy: 0.7054 - val_loss: 0.9121 - val_accuracy: 0.7121 - lr: 2.5000e-04\n",
      "Epoch 27/32\n",
      "5084/5108 [============================>.] - ETA: 0s - loss: 0.9345 - accuracy: 0.7065\n",
      "Epoch 27: val_loss did not improve from 0.91214\n",
      "5108/5108 [==============================] - 9s 2ms/step - loss: 0.9344 - accuracy: 0.7065 - val_loss: 0.9242 - val_accuracy: 0.7079 - lr: 2.5000e-04\n",
      "Epoch 28/32\n",
      "5100/5108 [============================>.] - ETA: 0s - loss: 0.9333 - accuracy: 0.7053\n",
      "Epoch 28: val_loss did not improve from 0.91214\n",
      "5108/5108 [==============================] - 9s 2ms/step - loss: 0.9332 - accuracy: 0.7054 - val_loss: 0.9143 - val_accuracy: 0.7113 - lr: 2.5000e-04\n",
      "Epoch 29/32\n",
      "5096/5108 [============================>.] - ETA: 0s - loss: 0.9335 - accuracy: 0.7056\n",
      "Epoch 29: val_loss did not improve from 0.91214\n",
      "\n",
      "Epoch 29: ReduceLROnPlateau reducing learning rate to 0.0001250000059371814.\n",
      "5108/5108 [==============================] - 9s 2ms/step - loss: 0.9335 - accuracy: 0.7056 - val_loss: 0.9145 - val_accuracy: 0.7097 - lr: 2.5000e-04\n",
      "Epoch 30/32\n",
      "5108/5108 [==============================] - ETA: 0s - loss: 0.9298 - accuracy: 0.7078\n",
      "Epoch 30: val_loss improved from 0.91214 to 0.90950, saving model to /data/models/bebi205/fc\n"
     ]
    },
    {
     "name": "stderr",
     "output_type": "stream",
     "text": [
      "WARNING:absl:Found untraced functions such as _update_step_xla while saving (showing 1 of 1). These functions will not be directly callable after loading.\n"
     ]
    },
    {
     "name": "stdout",
     "output_type": "stream",
     "text": [
      "INFO:tensorflow:Assets written to: /data/models/bebi205/fc/assets\n"
     ]
    },
    {
     "name": "stderr",
     "output_type": "stream",
     "text": [
      "INFO:tensorflow:Assets written to: /data/models/bebi205/fc/assets\n"
     ]
    },
    {
     "name": "stdout",
     "output_type": "stream",
     "text": [
      "5108/5108 [==============================] - 10s 2ms/step - loss: 0.9298 - accuracy: 0.7078 - val_loss: 0.9095 - val_accuracy: 0.7111 - lr: 1.2500e-04\n",
      "Epoch 31/32\n",
      "5091/5108 [============================>.] - ETA: 0s - loss: 0.9281 - accuracy: 0.7076\n",
      "Epoch 31: val_loss improved from 0.90950 to 0.90886, saving model to /data/models/bebi205/fc\n"
     ]
    },
    {
     "name": "stderr",
     "output_type": "stream",
     "text": [
      "WARNING:absl:Found untraced functions such as _update_step_xla while saving (showing 1 of 1). These functions will not be directly callable after loading.\n"
     ]
    },
    {
     "name": "stdout",
     "output_type": "stream",
     "text": [
      "INFO:tensorflow:Assets written to: /data/models/bebi205/fc/assets\n"
     ]
    },
    {
     "name": "stderr",
     "output_type": "stream",
     "text": [
      "INFO:tensorflow:Assets written to: /data/models/bebi205/fc/assets\n"
     ]
    },
    {
     "name": "stdout",
     "output_type": "stream",
     "text": [
      "5108/5108 [==============================] - 10s 2ms/step - loss: 0.9280 - accuracy: 0.7076 - val_loss: 0.9089 - val_accuracy: 0.7117 - lr: 1.2500e-04\n",
      "Epoch 32/32\n",
      "5093/5108 [============================>.] - ETA: 0s - loss: 0.9289 - accuracy: 0.7078\n",
      "Epoch 32: val_loss improved from 0.90886 to 0.90816, saving model to /data/models/bebi205/fc\n"
     ]
    },
    {
     "name": "stderr",
     "output_type": "stream",
     "text": [
      "WARNING:absl:Found untraced functions such as _update_step_xla while saving (showing 1 of 1). These functions will not be directly callable after loading.\n"
     ]
    },
    {
     "name": "stdout",
     "output_type": "stream",
     "text": [
      "INFO:tensorflow:Assets written to: /data/models/bebi205/fc/assets\n"
     ]
    },
    {
     "name": "stderr",
     "output_type": "stream",
     "text": [
      "INFO:tensorflow:Assets written to: /data/models/bebi205/fc/assets\n"
     ]
    },
    {
     "name": "stdout",
     "output_type": "stream",
     "text": [
      "5108/5108 [==============================] - 10s 2ms/step - loss: 0.9287 - accuracy: 0.7078 - val_loss: 0.9082 - val_accuracy: 0.7113 - lr: 1.2500e-04\n"
     ]
    },
    {
     "name": "stderr",
     "output_type": "stream",
     "text": [
      "2023-04-24 08:30:36.592026: I tensorflow/core/common_runtime/executor.cc:1197] [/device:CPU:0] (DEBUG INFO) Executor start aborting (this does not indicate an error and you can ignore this message): INVALID_ARGUMENT: You must feed a value for placeholder tensor 'Placeholder/_1' with dtype float and shape [20429,18]\n",
      "\t [[{{node Placeholder/_1}}]]\n"
     ]
    },
    {
     "name": "stdout",
     "output_type": "stream",
     "text": [
      "639/639 [==============================] - 1s 1ms/step\n"
     ]
    }
   ],
   "source": [
    "# Define X and y data from the DataFrame\n",
    "X = trn_data.to_numpy()\n",
    "y_init = trn_data.index.values\n",
    "y = tf.keras.utils.to_categorical(y_init)\n",
    "\n",
    "# Create training, test, and validation datasets\n",
    "X_train, X_temp, y_train, y_temp = sklearn.model_selection.train_test_split(X, y, train_size=0.8)\n",
    "X_val, X_test, y_val, y_test = sklearn.model_selection.train_test_split(X_temp, y_temp, train_size=0.5)\n",
    "\n",
    "train_dataset = tf.data.Dataset.from_tensor_slices((X_train, y_train))\n",
    "val_dataset = tf.data.Dataset.from_tensor_slices((X_val, y_val))\n",
    "test_dataset = tf.data.Dataset.from_tensor_slices((X_test, y_test))\n",
    "\n",
    "# Batch data\n",
    "batch_size = 32\n",
    "train_dataset = train_dataset.shuffle(256).batch(batch_size)\n",
    "val_dataset = val_dataset.batch(batch_size)\n",
    "test_dataset = test_dataset.batch(batch_size)\n",
    "\n",
    "# Define the fully connected neural network\n",
    "def create_fc_classifier():\n",
    "    inputs = Input((len(X[0])), # length 20 vector \n",
    "                   name='fc_classifier_input')\n",
    "    x = Flatten()(inputs)\n",
    "    x = Dense(18)(x)\n",
    "    x = Activation('relu')(x)\n",
    "    x = BatchNormalization(axis=-1)(x)\n",
    "    x = Dense(18)(x)\n",
    "    x = Activation('relu')(x)\n",
    "    x = BatchNormalization(axis=-1)(x)\n",
    "    x = Dense(len(y[0]))(x)\n",
    "    x = Softmax(axis=-1)(x)\n",
    "    model = Model(inputs=inputs, outputs=x)\n",
    "    return model\n",
    "\n",
    "# Create the classifier\n",
    "fc_classifier = create_fc_classifier()\n",
    "\n",
    "# Define the loss function\n",
    "loss_function = tf.keras.losses.CategoricalCrossentropy() \n",
    "\n",
    "# Define the training algorithm\n",
    "fc_optimizer = tf.keras.optimizers.Adam(learning_rate=1e-3, clipnorm=0.001)\n",
    "\n",
    "# Define training parameters\n",
    "n_epochs=32\n",
    "\n",
    "# Define callbacks\n",
    "fc_model_path = '/data/models/bebi205/fc'\n",
    "fc_callbacks = [\n",
    "    tf.keras.callbacks.ModelCheckpoint(\n",
    "        fc_model_path, monitor='val_loss',\n",
    "        save_best_only=True, verbose=1,\n",
    "        save_weights_only=False)]\n",
    "fc_callbacks.append(\n",
    "    tf.keras.callbacks.ReduceLROnPlateau(\n",
    "        monitor='val_loss', factor=0.5, verbose=1,\n",
    "        patience=3, min_lr=1e-7))\n",
    "\n",
    "# Compile model\n",
    "fc_classifier.compile(optimizer=fc_optimizer, \n",
    "                          loss=loss_function, \n",
    "                          metrics = ['accuracy'])\n",
    "\n",
    "# Train the fully connected neural network\n",
    "fc_classifier.fit(train_dataset,\n",
    "                  validation_data=val_dataset,\n",
    "                  epochs=n_epochs,\n",
    "                  verbose=1,\n",
    "                  callbacks=fc_callbacks);\n",
    "\n",
    "# Generate predictions\n",
    "test_list = list(test_dataset.as_numpy_iterator())\n",
    "X_test = [item[0] for item in test_list]\n",
    "y_test = [item[1] for item in test_list]\n",
    "\n",
    "X_test = np.concatenate(X_test, axis=0)\n",
    "y_test = np.concatenate(y_test, axis=0)\n",
    "y_test = np.argmax(y_test, axis=-1)\n",
    "\n",
    "y_pred = fc_classifier.predict(X_test)\n",
    "y_pred = np.argmax(y_pred, axis=-1)"
   ]
  },
  {
   "cell_type": "markdown",
   "id": "923e65be-42e5-426c-a14a-920bcd54b155",
   "metadata": {},
   "source": [
    "Now, we can plot the confusion matrix for the fully connected classifier using `sklearn.metrics.confusion_matrix`."
   ]
  },
  {
   "cell_type": "code",
   "execution_count": 12,
   "id": "f4202e62-f339-43f3-b6b4-2f19a6a53b8b",
   "metadata": {
    "tags": []
   },
   "outputs": [
    {
     "data": {
      "image/png": "[encoded data removed]",
      "text/plain": [
       "<Figure size 1200x800 with 2 Axes>"
      ]
     },
     "metadata": {},
     "output_type": "display_data"
    }
   ],
   "source": [
    "# Compute confusion matrix\n",
    "cm = sklearn.metrics.confusion_matrix(y_test, y_pred)\n",
    "\n",
    "# Delete FAILED_HARMONIZATION\n",
    "cm_v2 = np.delete(cm, -1, 0) \n",
    "cm_v2 = np.delete(cm_v2, -1, 1)\n",
    "\n",
    "# Normalize\n",
    "cm_v2 = cm_v2 / np.sum(cm_v2)\n",
    "\n",
    "# Map tick numbers to cell labels\n",
    "axis_ticks = [metadata['cell_types'][i] for i in range(1, len(cm_v2) + 1)]\n",
    "\n",
    "# Initialize and show figure\n",
    "plt.figure(figsize = (12,8))\n",
    "s = sns.heatmap(cm_v2, annot=True, annot_kws={\"size\": 7}, cmap=\"magma\")\n",
    "s.set(xlabel=\"Predicted\", ylabel=\"Actual\", xticklabels=axis_ticks, yticklabels=axis_ticks)\n",
    "plt.xticks(rotation=90)\n",
    "plt.yticks(rotation=0)\n",
    "plt.show()"
   ]
  },
  {
   "cell_type": "markdown",
   "id": "61a9bec8-0583-448a-91de-367fc8a0fa71",
   "metadata": {},
   "source": [
    "### Linear Classifier in PyTorch\n",
    "\n",
    "We will follow the aforementioned tutorial to build our linear classifier in PyTorch."
   ]
  },
  {
   "cell_type": "code",
   "execution_count": 13,
   "id": "ad996cc9-d695-4b28-b6ae-3918a755822d",
   "metadata": {
    "tags": []
   },
   "outputs": [],
   "source": [
    "# Initialize X and y as before\n",
    "X = trn_data.to_numpy()\n",
    "y_init = trn_data.index.values\n",
    "y = tf.keras.utils.to_categorical(y_init)\n",
    "\n",
    "# Convert data into tensors\n",
    "X = torch.tensor(X, dtype=torch.float32)\n",
    "y = torch.tensor(y, dtype=torch.float32)\n",
    "\n",
    "# Split data for training, testing, and validation\n",
    "X_train, X_temp, y_train, y_temp = sklearn.model_selection.train_test_split(X, y, train_size=0.3, shuffle=True)\n",
    "X_val, X_test, y_val, y_test = sklearn.model_selection.train_test_split(X_temp, y_temp, train_size=0.5, shuffle=True)"
   ]
  },
  {
   "cell_type": "code",
   "execution_count": 14,
   "id": "f12f5f22-4812-4193-a671-584e45ad1081",
   "metadata": {
    "tags": []
   },
   "outputs": [],
   "source": [
    "# Build cell type classifier\n",
    "class CellClassifier(nn.Module):\n",
    "    def __init__(self):\n",
    "        super().__init__()\n",
    "        self.hidden = nn.Linear(len(X[0]), len(X[0]) - 5)\n",
    "        self.activation = nn.ReLU()\n",
    "        self.output = nn.Linear(len(X[0]) - 5, len(y[0]))\n",
    "\n",
    "    def forward(self, x):\n",
    "        x = self.activation(self.hidden(x))\n",
    "        x = self.output(x)\n",
    "        return torch.nn.functional.softmax(x, dim=None)"
   ]
  },
  {
   "cell_type": "code",
   "execution_count": 15,
   "id": "830cf0d9-259b-47e7-9d15-d1113ecbae5a",
   "metadata": {
    "tags": []
   },
   "outputs": [],
   "source": [
    "# Loss function and optimizer\n",
    "model = CellClassifier()\n",
    "loss_fn = nn.CrossEntropyLoss()\n",
    "optimizer = optim.Adam(model.parameters(), lr=0.01)\n",
    "\n",
    "# Initialize epochs and batch size\n",
    "n_epochs = 100\n",
    "batch_size = 64\n",
    "batches_per_epoch = len(X_train) // batch_size\n",
    "\n",
    "# Initialize best accuracy to continually watch it\n",
    "best_acc = - np.inf\n",
    "best_weights = None\n",
    "\n",
    "# Initialize lists for storing data\n",
    "train_loss_hist, train_acc_hist, test_loss_hist, test_acc_hist = [], [], [], []"
   ]
  },
  {
   "cell_type": "code",
   "execution_count": 16,
   "id": "4f1f190f-eb46-4638-bd5d-fe4e8d1078c7",
   "metadata": {
    "tags": []
   },
   "outputs": [
    {
     "name": "stderr",
     "output_type": "stream",
     "text": [
      "Epoch 0:   0%|                                       | 0/957 [00:00<?, ?batch/s]/tmp/ipykernel_48874/3046023412.py:12: UserWarning: Implicit dimension choice for softmax has been deprecated. Change the call to include dim=X as an argument.\n",
      "  return torch.nn.functional.softmax(x, dim=None)\n",
      "Epoch 0: 100%|██████| 957/957 [00:02<00:00, 332.45batch/s, acc=0.375, loss=2.61]\n"
     ]
    },
    {
     "name": "stdout",
     "output_type": "stream",
     "text": [
      "Epoch 0 validation: Cross-entropy=2.5659947395324707, Accuracy=0.41557225584983826\n"
     ]
    },
    {
     "name": "stderr",
     "output_type": "stream",
     "text": [
      "Epoch 1: 100%|██████| 957/957 [00:02<00:00, 336.53batch/s, acc=0.375, loss=2.61]\n"
     ]
    },
    {
     "name": "stdout",
     "output_type": "stream",
     "text": [
      "Epoch 1 validation: Cross-entropy=2.56597900390625, Accuracy=0.41557225584983826\n"
     ]
    },
    {
     "name": "stderr",
     "output_type": "stream",
     "text": [
      "Epoch 2: 100%|██████| 957/957 [00:02<00:00, 337.33batch/s, acc=0.375, loss=2.61]\n"
     ]
    },
    {
     "name": "stdout",
     "output_type": "stream",
     "text": [
      "Epoch 2 validation: Cross-entropy=2.5659759044647217, Accuracy=0.41557225584983826\n"
     ]
    },
    {
     "name": "stderr",
     "output_type": "stream",
     "text": [
      "Epoch 3: 100%|██████| 957/957 [00:02<00:00, 335.55batch/s, acc=0.375, loss=2.61]\n"
     ]
    },
    {
     "name": "stdout",
     "output_type": "stream",
     "text": [
      "Epoch 3 validation: Cross-entropy=2.5659313201904297, Accuracy=0.41557225584983826\n"
     ]
    },
    {
     "name": "stderr",
     "output_type": "stream",
     "text": [
      "Epoch 4: 100%|██████| 957/957 [00:02<00:00, 337.99batch/s, acc=0.656, loss=2.37]\n"
     ]
    },
    {
     "name": "stdout",
     "output_type": "stream",
     "text": [
      "Epoch 4 validation: Cross-entropy=2.4072980880737305, Accuracy=0.5823158621788025\n"
     ]
    },
    {
     "name": "stderr",
     "output_type": "stream",
     "text": [
      "Epoch 5: 100%|██████| 957/957 [00:02<00:00, 336.10batch/s, acc=0.609, loss=2.35]\n"
     ]
    },
    {
     "name": "stdout",
     "output_type": "stream",
     "text": [
      "Epoch 5 validation: Cross-entropy=2.3926234245300293, Accuracy=0.5941342115402222\n"
     ]
    },
    {
     "name": "stderr",
     "output_type": "stream",
     "text": [
      "Epoch 6: 100%|██████| 957/957 [00:02<00:00, 342.87batch/s, acc=0.672, loss=2.33]\n"
     ]
    },
    {
     "name": "stdout",
     "output_type": "stream",
     "text": [
      "Epoch 6 validation: Cross-entropy=2.3663361072540283, Accuracy=0.6224422454833984\n"
     ]
    },
    {
     "name": "stderr",
     "output_type": "stream",
     "text": [
      "Epoch 7: 100%|██████| 957/957 [00:02<00:00, 341.55batch/s, acc=0.672, loss=2.32]\n"
     ]
    },
    {
     "name": "stdout",
     "output_type": "stream",
     "text": [
      "Epoch 7 validation: Cross-entropy=2.3569812774658203, Accuracy=0.630050778388977\n"
     ]
    },
    {
     "name": "stderr",
     "output_type": "stream",
     "text": [
      "Epoch 8: 100%|██████| 957/957 [00:02<00:00, 339.39batch/s, acc=0.672, loss=2.31]\n"
     ]
    },
    {
     "name": "stdout",
     "output_type": "stream",
     "text": [
      "Epoch 8 validation: Cross-entropy=2.35312557220459, Accuracy=0.6329458951950073\n"
     ]
    },
    {
     "name": "stderr",
     "output_type": "stream",
     "text": [
      "Epoch 9: 100%|██████| 957/957 [00:02<00:00, 341.46batch/s, acc=0.672, loss=2.31]\n"
     ]
    },
    {
     "name": "stdout",
     "output_type": "stream",
     "text": [
      "Epoch 9 validation: Cross-entropy=2.3508968353271484, Accuracy=0.6343585252761841\n"
     ]
    },
    {
     "name": "stderr",
     "output_type": "stream",
     "text": [
      "Epoch 10: 100%|██████| 957/957 [00:02<00:00, 342.56batch/s, acc=0.688, loss=2.3]\n"
     ]
    },
    {
     "name": "stdout",
     "output_type": "stream",
     "text": [
      "Epoch 10 validation: Cross-entropy=2.3489797115325928, Accuracy=0.6355473399162292\n"
     ]
    },
    {
     "name": "stderr",
     "output_type": "stream",
     "text": [
      "Epoch 11: 100%|██████| 957/957 [00:02<00:00, 342.65batch/s, acc=0.688, loss=2.3]\n"
     ]
    },
    {
     "name": "stdout",
     "output_type": "stream",
     "text": [
      "Epoch 11 validation: Cross-entropy=2.3480606079101562, Accuracy=0.6361487507820129\n"
     ]
    },
    {
     "name": "stderr",
     "output_type": "stream",
     "text": [
      "Epoch 12: 100%|██████| 957/957 [00:02<00:00, 338.79batch/s, acc=0.688, loss=2.3]\n"
     ]
    },
    {
     "name": "stdout",
     "output_type": "stream",
     "text": [
      "Epoch 12 validation: Cross-entropy=2.347454786300659, Accuracy=0.6366662383079529\n"
     ]
    },
    {
     "name": "stderr",
     "output_type": "stream",
     "text": [
      "Epoch 13: 100%|██████| 957/957 [00:02<00:00, 336.72batch/s, acc=0.688, loss=2.3]\n"
     ]
    },
    {
     "name": "stdout",
     "output_type": "stream",
     "text": [
      "Epoch 13 validation: Cross-entropy=2.3468892574310303, Accuracy=0.636959969997406\n"
     ]
    },
    {
     "name": "stderr",
     "output_type": "stream",
     "text": [
      "Epoch 14: 100%|██████| 957/957 [00:02<00:00, 339.75batch/s, acc=0.688, loss=2.3]\n"
     ]
    },
    {
     "name": "stdout",
     "output_type": "stream",
     "text": [
      "Epoch 14 validation: Cross-entropy=2.3457560539245605, Accuracy=0.6376872658729553\n"
     ]
    },
    {
     "name": "stderr",
     "output_type": "stream",
     "text": [
      "Epoch 15: 100%|██████| 957/957 [00:02<00:00, 334.39batch/s, acc=0.688, loss=2.3]\n"
     ]
    },
    {
     "name": "stdout",
     "output_type": "stream",
     "text": [
      "Epoch 15 validation: Cross-entropy=2.345597982406616, Accuracy=0.6377431750297546\n"
     ]
    },
    {
     "name": "stderr",
     "output_type": "stream",
     "text": [
      "Epoch 16: 100%|██████| 957/957 [00:02<00:00, 334.41batch/s, acc=0.688, loss=2.3]\n"
     ]
    },
    {
     "name": "stdout",
     "output_type": "stream",
     "text": [
      "Epoch 16 validation: Cross-entropy=2.3447492122650146, Accuracy=0.638372540473938\n"
     ]
    },
    {
     "name": "stderr",
     "output_type": "stream",
     "text": [
      "Epoch 17: 100%|██████| 957/957 [00:02<00:00, 339.20batch/s, acc=0.688, loss=2.3]\n"
     ]
    },
    {
     "name": "stdout",
     "output_type": "stream",
     "text": [
      "Epoch 17 validation: Cross-entropy=2.3440229892730713, Accuracy=0.638806164264679\n"
     ]
    },
    {
     "name": "stderr",
     "output_type": "stream",
     "text": [
      "Epoch 18: 100%|██████| 957/957 [00:02<00:00, 341.20batch/s, acc=0.688, loss=2.3]\n"
     ]
    },
    {
     "name": "stdout",
     "output_type": "stream",
     "text": [
      "Epoch 18 validation: Cross-entropy=2.3434929847717285, Accuracy=0.639463484287262\n"
     ]
    },
    {
     "name": "stderr",
     "output_type": "stream",
     "text": [
      "Epoch 19: 100%|██████| 957/957 [00:02<00:00, 340.52batch/s, acc=0.688, loss=2.3]\n"
     ]
    },
    {
     "name": "stdout",
     "output_type": "stream",
     "text": [
      "Epoch 19 validation: Cross-entropy=2.3431625366210938, Accuracy=0.6395054459571838\n"
     ]
    },
    {
     "name": "stderr",
     "output_type": "stream",
     "text": [
      "Epoch 20: 100%|██████| 957/957 [00:02<00:00, 334.61batch/s, acc=0.688, loss=2.3]\n"
     ]
    },
    {
     "name": "stdout",
     "output_type": "stream",
     "text": [
      "Epoch 20 validation: Cross-entropy=2.341099500656128, Accuracy=0.6434355974197388\n"
     ]
    },
    {
     "name": "stderr",
     "output_type": "stream",
     "text": [
      "Epoch 21: 100%|██████| 957/957 [00:02<00:00, 330.73batch/s, acc=0.688, loss=2.3]\n"
     ]
    },
    {
     "name": "stdout",
     "output_type": "stream",
     "text": [
      "Epoch 21 validation: Cross-entropy=2.340076446533203, Accuracy=0.6446383595466614\n"
     ]
    },
    {
     "name": "stderr",
     "output_type": "stream",
     "text": [
      "Epoch 22: 100%|██████| 957/957 [00:02<00:00, 343.85batch/s, acc=0.688, loss=2.3]\n"
     ]
    },
    {
     "name": "stdout",
     "output_type": "stream",
     "text": [
      "Epoch 22 validation: Cross-entropy=2.3391942977905273, Accuracy=0.6447782516479492\n"
     ]
    },
    {
     "name": "stderr",
     "output_type": "stream",
     "text": [
      "Epoch 23: 100%|██████| 957/957 [00:02<00:00, 338.61batch/s, acc=0.688, loss=2.3]\n"
     ]
    },
    {
     "name": "stdout",
     "output_type": "stream",
     "text": [
      "Epoch 23 validation: Cross-entropy=2.3388726711273193, Accuracy=0.6449460983276367\n"
     ]
    },
    {
     "name": "stderr",
     "output_type": "stream",
     "text": [
      "Epoch 24: 100%|██████| 957/957 [00:02<00:00, 336.85batch/s, acc=0.688, loss=2.3]\n"
     ]
    },
    {
     "name": "stdout",
     "output_type": "stream",
     "text": [
      "Epoch 24 validation: Cross-entropy=2.338624954223633, Accuracy=0.6453097462654114\n"
     ]
    },
    {
     "name": "stderr",
     "output_type": "stream",
     "text": [
      "Epoch 25: 100%|██████| 957/957 [00:02<00:00, 340.16batch/s, acc=0.688, loss=2.3]\n"
     ]
    },
    {
     "name": "stdout",
     "output_type": "stream",
     "text": [
      "Epoch 25 validation: Cross-entropy=2.337872266769409, Accuracy=0.6458691954612732\n"
     ]
    },
    {
     "name": "stderr",
     "output_type": "stream",
     "text": [
      "Epoch 26: 100%|██████| 957/957 [00:02<00:00, 339.10batch/s, acc=0.688, loss=2.3]\n"
     ]
    },
    {
     "name": "stdout",
     "output_type": "stream",
     "text": [
      "Epoch 26 validation: Cross-entropy=2.337686061859131, Accuracy=0.645855188369751\n"
     ]
    },
    {
     "name": "stderr",
     "output_type": "stream",
     "text": [
      "Epoch 27: 100%|██████| 957/957 [00:02<00:00, 341.07batch/s, acc=0.688, loss=2.3]\n"
     ]
    },
    {
     "name": "stdout",
     "output_type": "stream",
     "text": [
      "Epoch 27 validation: Cross-entropy=2.3373234272003174, Accuracy=0.6461628675460815\n"
     ]
    },
    {
     "name": "stderr",
     "output_type": "stream",
     "text": [
      "Epoch 28: 100%|██████| 957/957 [00:02<00:00, 337.70batch/s, acc=0.688, loss=2.3]\n"
     ]
    },
    {
     "name": "stdout",
     "output_type": "stream",
     "text": [
      "Epoch 28 validation: Cross-entropy=2.3371121883392334, Accuracy=0.6462188363075256\n"
     ]
    },
    {
     "name": "stderr",
     "output_type": "stream",
     "text": [
      "Epoch 29: 100%|██████| 957/957 [00:02<00:00, 339.71batch/s, acc=0.688, loss=2.3]\n"
     ]
    },
    {
     "name": "stdout",
     "output_type": "stream",
     "text": [
      "Epoch 29 validation: Cross-entropy=2.33699107170105, Accuracy=0.646330714225769\n"
     ]
    },
    {
     "name": "stderr",
     "output_type": "stream",
     "text": [
      "Epoch 30: 100%|██████| 957/957 [00:02<00:00, 340.57batch/s, acc=0.688, loss=2.3]\n"
     ]
    },
    {
     "name": "stdout",
     "output_type": "stream",
     "text": [
      "Epoch 30 validation: Cross-entropy=2.3367817401885986, Accuracy=0.646428644657135\n"
     ]
    },
    {
     "name": "stderr",
     "output_type": "stream",
     "text": [
      "Epoch 31: 100%|██████| 957/957 [00:02<00:00, 341.72batch/s, acc=0.688, loss=2.3]\n"
     ]
    },
    {
     "name": "stdout",
     "output_type": "stream",
     "text": [
      "Epoch 31 validation: Cross-entropy=2.3367135524749756, Accuracy=0.6466943621635437\n"
     ]
    },
    {
     "name": "stderr",
     "output_type": "stream",
     "text": [
      "Epoch 32: 100%|██████| 957/957 [00:02<00:00, 340.43batch/s, acc=0.688, loss=2.3]\n"
     ]
    },
    {
     "name": "stdout",
     "output_type": "stream",
     "text": [
      "Epoch 32 validation: Cross-entropy=2.3367483615875244, Accuracy=0.6464706063270569\n"
     ]
    },
    {
     "name": "stderr",
     "output_type": "stream",
     "text": [
      "Epoch 33: 100%|██████| 957/957 [00:02<00:00, 340.89batch/s, acc=0.688, loss=2.3]\n"
     ]
    },
    {
     "name": "stdout",
     "output_type": "stream",
     "text": [
      "Epoch 33 validation: Cross-entropy=2.3365890979766846, Accuracy=0.6464845538139343\n"
     ]
    },
    {
     "name": "stderr",
     "output_type": "stream",
     "text": [
      "Epoch 34: 100%|██████| 957/957 [00:02<00:00, 341.89batch/s, acc=0.688, loss=2.3]\n"
     ]
    },
    {
     "name": "stdout",
     "output_type": "stream",
     "text": [
      "Epoch 34 validation: Cross-entropy=2.3364644050598145, Accuracy=0.6464565992355347\n"
     ]
    },
    {
     "name": "stderr",
     "output_type": "stream",
     "text": [
      "Epoch 35: 100%|██████| 957/957 [00:02<00:00, 342.06batch/s, acc=0.688, loss=2.3]\n"
     ]
    },
    {
     "name": "stdout",
     "output_type": "stream",
     "text": [
      "Epoch 35 validation: Cross-entropy=2.3365936279296875, Accuracy=0.6465544700622559\n"
     ]
    },
    {
     "name": "stderr",
     "output_type": "stream",
     "text": [
      "Epoch 36: 100%|██████| 957/957 [00:02<00:00, 335.82batch/s, acc=0.688, loss=2.3]\n"
     ]
    },
    {
     "name": "stdout",
     "output_type": "stream",
     "text": [
      "Epoch 36 validation: Cross-entropy=2.336284875869751, Accuracy=0.6466803550720215\n"
     ]
    },
    {
     "name": "stderr",
     "output_type": "stream",
     "text": [
      "Epoch 37: 100%|██████| 957/957 [00:02<00:00, 333.65batch/s, acc=0.688, loss=2.3]\n"
     ]
    },
    {
     "name": "stdout",
     "output_type": "stream",
     "text": [
      "Epoch 37 validation: Cross-entropy=2.33644437789917, Accuracy=0.6467642784118652\n"
     ]
    },
    {
     "name": "stderr",
     "output_type": "stream",
     "text": [
      "Epoch 38: 100%|██████| 957/957 [00:02<00:00, 336.36batch/s, acc=0.688, loss=2.3]\n"
     ]
    },
    {
     "name": "stdout",
     "output_type": "stream",
     "text": [
      "Epoch 38 validation: Cross-entropy=2.3361380100250244, Accuracy=0.6469041705131531\n"
     ]
    },
    {
     "name": "stderr",
     "output_type": "stream",
     "text": [
      "Epoch 39: 100%|██████| 957/957 [00:02<00:00, 333.34batch/s, acc=0.688, loss=2.3]\n"
     ]
    },
    {
     "name": "stdout",
     "output_type": "stream",
     "text": [
      "Epoch 39 validation: Cross-entropy=2.3361942768096924, Accuracy=0.6470160484313965\n"
     ]
    },
    {
     "name": "stderr",
     "output_type": "stream",
     "text": [
      "Epoch 40: 100%|██████| 957/957 [00:02<00:00, 342.08batch/s, acc=0.688, loss=2.3]\n"
     ]
    },
    {
     "name": "stdout",
     "output_type": "stream",
     "text": [
      "Epoch 40 validation: Cross-entropy=2.336477518081665, Accuracy=0.6467363238334656\n"
     ]
    },
    {
     "name": "stderr",
     "output_type": "stream",
     "text": [
      "Epoch 41: 100%|██████| 957/957 [00:02<00:00, 337.47batch/s, acc=0.688, loss=2.3]\n"
     ]
    },
    {
     "name": "stdout",
     "output_type": "stream",
     "text": [
      "Epoch 41 validation: Cross-entropy=2.3364086151123047, Accuracy=0.6465544700622559\n"
     ]
    },
    {
     "name": "stderr",
     "output_type": "stream",
     "text": [
      "Epoch 42: 100%|██████| 957/957 [00:02<00:00, 337.42batch/s, acc=0.688, loss=2.3]\n"
     ]
    },
    {
     "name": "stdout",
     "output_type": "stream",
     "text": [
      "Epoch 42 validation: Cross-entropy=2.33632755279541, Accuracy=0.646848201751709\n"
     ]
    },
    {
     "name": "stderr",
     "output_type": "stream",
     "text": [
      "Epoch 43: 100%|██████| 957/957 [00:02<00:00, 338.56batch/s, acc=0.688, loss=2.3]\n"
     ]
    },
    {
     "name": "stdout",
     "output_type": "stream",
     "text": [
      "Epoch 43 validation: Cross-entropy=2.33768630027771, Accuracy=0.6452397704124451\n"
     ]
    },
    {
     "name": "stderr",
     "output_type": "stream",
     "text": [
      "Epoch 44: 100%|██████| 957/957 [00:02<00:00, 340.24batch/s, acc=0.688, loss=2.3]\n"
     ]
    },
    {
     "name": "stdout",
     "output_type": "stream",
     "text": [
      "Epoch 44 validation: Cross-entropy=2.3377175331115723, Accuracy=0.6452817320823669\n"
     ]
    },
    {
     "name": "stderr",
     "output_type": "stream",
     "text": [
      "Epoch 45: 100%|██████| 957/957 [00:02<00:00, 341.23batch/s, acc=0.688, loss=2.3]\n"
     ]
    },
    {
     "name": "stdout",
     "output_type": "stream",
     "text": [
      "Epoch 45 validation: Cross-entropy=2.337916135787964, Accuracy=0.6447502970695496\n"
     ]
    },
    {
     "name": "stderr",
     "output_type": "stream",
     "text": [
      "Epoch 46: 100%|██████| 957/957 [00:02<00:00, 347.01batch/s, acc=0.688, loss=2.3]\n"
     ]
    },
    {
     "name": "stdout",
     "output_type": "stream",
     "text": [
      "Epoch 46 validation: Cross-entropy=2.3359758853912354, Accuracy=0.6465684771537781\n"
     ]
    },
    {
     "name": "stderr",
     "output_type": "stream",
     "text": [
      "Epoch 47: 100%|██████| 957/957 [00:02<00:00, 343.20batch/s, acc=0.688, loss=2.3]\n"
     ]
    },
    {
     "name": "stdout",
     "output_type": "stream",
     "text": [
      "Epoch 47 validation: Cross-entropy=2.3368990421295166, Accuracy=0.6453936696052551\n"
     ]
    },
    {
     "name": "stderr",
     "output_type": "stream",
     "text": [
      "Epoch 48: 100%|██████| 957/957 [00:02<00:00, 346.38batch/s, acc=0.688, loss=2.3]\n"
     ]
    },
    {
     "name": "stdout",
     "output_type": "stream",
     "text": [
      "Epoch 48 validation: Cross-entropy=2.3359317779541016, Accuracy=0.646190881729126\n"
     ]
    },
    {
     "name": "stderr",
     "output_type": "stream",
     "text": [
      "Epoch 49: 100%|██████| 957/957 [00:02<00:00, 337.97batch/s, acc=0.688, loss=2.3]\n"
     ]
    },
    {
     "name": "stdout",
     "output_type": "stream",
     "text": [
      "Epoch 49 validation: Cross-entropy=2.335893154144287, Accuracy=0.6463027596473694\n"
     ]
    },
    {
     "name": "stderr",
     "output_type": "stream",
     "text": [
      "Epoch 50: 100%|██████| 957/957 [00:02<00:00, 334.20batch/s, acc=0.688, loss=2.3]\n"
     ]
    },
    {
     "name": "stdout",
     "output_type": "stream",
     "text": [
      "Epoch 50 validation: Cross-entropy=2.3353097438812256, Accuracy=0.6470719575881958\n"
     ]
    },
    {
     "name": "stderr",
     "output_type": "stream",
     "text": [
      "Epoch 51: 100%|██████| 957/957 [00:02<00:00, 339.01batch/s, acc=0.688, loss=2.3]\n"
     ]
    },
    {
     "name": "stdout",
     "output_type": "stream",
     "text": [
      "Epoch 51 validation: Cross-entropy=2.334315538406372, Accuracy=0.647659420967102\n"
     ]
    },
    {
     "name": "stderr",
     "output_type": "stream",
     "text": [
      "Epoch 52: 100%|█████| 957/957 [00:02<00:00, 338.53batch/s, acc=0.688, loss=2.29]\n"
     ]
    },
    {
     "name": "stdout",
     "output_type": "stream",
     "text": [
      "Epoch 52 validation: Cross-entropy=2.334357500076294, Accuracy=0.647939145565033\n"
     ]
    },
    {
     "name": "stderr",
     "output_type": "stream",
     "text": [
      "Epoch 53: 100%|██████| 957/957 [00:02<00:00, 342.84batch/s, acc=0.688, loss=2.3]\n"
     ]
    },
    {
     "name": "stdout",
     "output_type": "stream",
     "text": [
      "Epoch 53 validation: Cross-entropy=2.3343234062194824, Accuracy=0.6479111313819885\n"
     ]
    },
    {
     "name": "stderr",
     "output_type": "stream",
     "text": [
      "Epoch 54: 100%|██████| 957/957 [00:02<00:00, 344.26batch/s, acc=0.688, loss=2.3]\n"
     ]
    },
    {
     "name": "stdout",
     "output_type": "stream",
     "text": [
      "Epoch 54 validation: Cross-entropy=2.334345579147339, Accuracy=0.6478971838951111\n"
     ]
    },
    {
     "name": "stderr",
     "output_type": "stream",
     "text": [
      "Epoch 55: 100%|█████| 957/957 [00:02<00:00, 338.44batch/s, acc=0.688, loss=2.29]\n"
     ]
    },
    {
     "name": "stdout",
     "output_type": "stream",
     "text": [
      "Epoch 55 validation: Cross-entropy=2.3344640731811523, Accuracy=0.6475335359573364\n"
     ]
    },
    {
     "name": "stderr",
     "output_type": "stream",
     "text": [
      "Epoch 56: 100%|█████| 957/957 [00:02<00:00, 339.19batch/s, acc=0.688, loss=2.29]\n"
     ]
    },
    {
     "name": "stdout",
     "output_type": "stream",
     "text": [
      "Epoch 56 validation: Cross-entropy=2.3345937728881836, Accuracy=0.6472538113594055\n"
     ]
    },
    {
     "name": "stderr",
     "output_type": "stream",
     "text": [
      "Epoch 57: 100%|█████| 957/957 [00:02<00:00, 336.09batch/s, acc=0.688, loss=2.29]\n"
     ]
    },
    {
     "name": "stdout",
     "output_type": "stream",
     "text": [
      "Epoch 57 validation: Cross-entropy=2.334261655807495, Accuracy=0.6477153301239014\n"
     ]
    },
    {
     "name": "stderr",
     "output_type": "stream",
     "text": [
      "Epoch 58: 100%|██████| 957/957 [00:02<00:00, 339.85batch/s, acc=0.688, loss=2.3]\n"
     ]
    },
    {
     "name": "stdout",
     "output_type": "stream",
     "text": [
      "Epoch 58 validation: Cross-entropy=2.3348500728607178, Accuracy=0.6470999717712402\n"
     ]
    },
    {
     "name": "stderr",
     "output_type": "stream",
     "text": [
      "Epoch 59: 100%|██████| 957/957 [00:02<00:00, 336.60batch/s, acc=0.688, loss=2.3]\n"
     ]
    },
    {
     "name": "stdout",
     "output_type": "stream",
     "text": [
      "Epoch 59 validation: Cross-entropy=2.334930658340454, Accuracy=0.6470440030097961\n"
     ]
    },
    {
     "name": "stderr",
     "output_type": "stream",
     "text": [
      "Epoch 60: 100%|██████| 957/957 [00:02<00:00, 333.32batch/s, acc=0.688, loss=2.3]\n"
     ]
    },
    {
     "name": "stdout",
     "output_type": "stream",
     "text": [
      "Epoch 60 validation: Cross-entropy=2.3349990844726562, Accuracy=0.6469041705131531\n"
     ]
    },
    {
     "name": "stderr",
     "output_type": "stream",
     "text": [
      "Epoch 61: 100%|██████| 957/957 [00:02<00:00, 331.35batch/s, acc=0.688, loss=2.3]\n"
     ]
    },
    {
     "name": "stdout",
     "output_type": "stream",
     "text": [
      "Epoch 61 validation: Cross-entropy=2.334711790084839, Accuracy=0.647323727607727\n"
     ]
    },
    {
     "name": "stderr",
     "output_type": "stream",
     "text": [
      "Epoch 62: 100%|██████| 957/957 [00:02<00:00, 338.83batch/s, acc=0.688, loss=2.3]\n"
     ]
    },
    {
     "name": "stdout",
     "output_type": "stream",
     "text": [
      "Epoch 62 validation: Cross-entropy=2.3348324298858643, Accuracy=0.6472398042678833\n"
     ]
    },
    {
     "name": "stderr",
     "output_type": "stream",
     "text": [
      "Epoch 63: 100%|██████| 957/957 [00:02<00:00, 337.76batch/s, acc=0.688, loss=2.3]\n"
     ]
    },
    {
     "name": "stdout",
     "output_type": "stream",
     "text": [
      "Epoch 63 validation: Cross-entropy=2.334878444671631, Accuracy=0.6472398042678833\n"
     ]
    },
    {
     "name": "stderr",
     "output_type": "stream",
     "text": [
      "Epoch 64: 100%|██████| 957/957 [00:02<00:00, 344.32batch/s, acc=0.688, loss=2.3]\n"
     ]
    },
    {
     "name": "stdout",
     "output_type": "stream",
     "text": [
      "Epoch 64 validation: Cross-entropy=2.3343679904937744, Accuracy=0.647603452205658\n"
     ]
    },
    {
     "name": "stderr",
     "output_type": "stream",
     "text": [
      "Epoch 65: 100%|██████| 957/957 [00:02<00:00, 339.29batch/s, acc=0.688, loss=2.3]\n"
     ]
    },
    {
     "name": "stdout",
     "output_type": "stream",
     "text": [
      "Epoch 65 validation: Cross-entropy=2.3344101905822754, Accuracy=0.6474496126174927\n"
     ]
    },
    {
     "name": "stderr",
     "output_type": "stream",
     "text": [
      "Epoch 66: 100%|██████| 957/957 [00:02<00:00, 340.44batch/s, acc=0.688, loss=2.3]\n"
     ]
    },
    {
     "name": "stdout",
     "output_type": "stream",
     "text": [
      "Epoch 66 validation: Cross-entropy=2.333798885345459, Accuracy=0.6479530930519104\n"
     ]
    },
    {
     "name": "stderr",
     "output_type": "stream",
     "text": [
      "Epoch 67: 100%|██████| 957/957 [00:02<00:00, 341.34batch/s, acc=0.688, loss=2.3]\n"
     ]
    },
    {
     "name": "stdout",
     "output_type": "stream",
     "text": [
      "Epoch 67 validation: Cross-entropy=2.334740161895752, Accuracy=0.6470020413398743\n"
     ]
    },
    {
     "name": "stderr",
     "output_type": "stream",
     "text": [
      "Epoch 68: 100%|██████| 957/957 [00:02<00:00, 334.54batch/s, acc=0.688, loss=2.3]\n"
     ]
    },
    {
     "name": "stdout",
     "output_type": "stream",
     "text": [
      "Epoch 68 validation: Cross-entropy=2.3347909450531006, Accuracy=0.6470160484313965\n"
     ]
    },
    {
     "name": "stderr",
     "output_type": "stream",
     "text": [
      "Epoch 69: 100%|██████| 957/957 [00:02<00:00, 341.37batch/s, acc=0.688, loss=2.3]\n"
     ]
    },
    {
     "name": "stdout",
     "output_type": "stream",
     "text": [
      "Epoch 69 validation: Cross-entropy=2.334808111190796, Accuracy=0.646848201751709\n"
     ]
    },
    {
     "name": "stderr",
     "output_type": "stream",
     "text": [
      "Epoch 70: 100%|██████| 957/957 [00:02<00:00, 339.93batch/s, acc=0.688, loss=2.3]\n"
     ]
    },
    {
     "name": "stdout",
     "output_type": "stream",
     "text": [
      "Epoch 70 validation: Cross-entropy=2.3343706130981445, Accuracy=0.6472118496894836\n"
     ]
    },
    {
     "name": "stderr",
     "output_type": "stream",
     "text": [
      "Epoch 71: 100%|██████| 957/957 [00:02<00:00, 336.50batch/s, acc=0.688, loss=2.3]\n"
     ]
    },
    {
     "name": "stdout",
     "output_type": "stream",
     "text": [
      "Epoch 71 validation: Cross-entropy=2.3337252140045166, Accuracy=0.6482328176498413\n"
     ]
    },
    {
     "name": "stderr",
     "output_type": "stream",
     "text": [
      "Epoch 72: 100%|██████| 957/957 [00:02<00:00, 344.17batch/s, acc=0.688, loss=2.3]\n"
     ]
    },
    {
     "name": "stdout",
     "output_type": "stream",
     "text": [
      "Epoch 72 validation: Cross-entropy=2.334177255630493, Accuracy=0.6474356055259705\n"
     ]
    },
    {
     "name": "stderr",
     "output_type": "stream",
     "text": [
      "Epoch 73:  82%|████ | 780/957 [00:02<00:00, 346.79batch/s, acc=0.781, loss=2.21]IOPub message rate exceeded.\n",
      "The Jupyter server will temporarily stop sending output\n",
      "to the client in order to avoid crashing it.\n",
      "To change this limit, set the config variable\n",
      "`--ServerApp.iopub_msg_rate_limit`.\n",
      "\n",
      "Current values:\n",
      "ServerApp.iopub_msg_rate_limit=1000.0 (msgs/sec)\n",
      "ServerApp.rate_limit_window=3.0 (secs)\n",
      "\n",
      "Epoch 74: 100%|██████| 957/957 [00:02<00:00, 332.92batch/s, acc=0.688, loss=2.3]\n"
     ]
    },
    {
     "name": "stdout",
     "output_type": "stream",
     "text": [
      "Epoch 74 validation: Cross-entropy=2.334084987640381, Accuracy=0.6475335359573364\n"
     ]
    },
    {
     "name": "stderr",
     "output_type": "stream",
     "text": [
      "Epoch 75: 100%|██████| 957/957 [00:02<00:00, 339.32batch/s, acc=0.688, loss=2.3]\n"
     ]
    },
    {
     "name": "stdout",
     "output_type": "stream",
     "text": [
      "Epoch 75 validation: Cross-entropy=2.334275484085083, Accuracy=0.6472538113594055\n"
     ]
    },
    {
     "name": "stderr",
     "output_type": "stream",
     "text": [
      "Epoch 76: 100%|██████| 957/957 [00:02<00:00, 337.24batch/s, acc=0.688, loss=2.3]\n"
     ]
    },
    {
     "name": "stdout",
     "output_type": "stream",
     "text": [
      "Epoch 76 validation: Cross-entropy=2.3337128162384033, Accuracy=0.6479671001434326\n"
     ]
    },
    {
     "name": "stderr",
     "output_type": "stream",
     "text": [
      "Epoch 77: 100%|██████| 957/957 [00:02<00:00, 338.76batch/s, acc=0.688, loss=2.3]\n"
     ]
    },
    {
     "name": "stdout",
     "output_type": "stream",
     "text": [
      "Epoch 77 validation: Cross-entropy=2.3337666988372803, Accuracy=0.6479530930519104\n"
     ]
    },
    {
     "name": "stderr",
     "output_type": "stream",
     "text": [
      "Epoch 78: 100%|██████| 957/957 [00:02<00:00, 330.96batch/s, acc=0.688, loss=2.3]\n"
     ]
    },
    {
     "name": "stdout",
     "output_type": "stream",
     "text": [
      "Epoch 78 validation: Cross-entropy=2.3340439796447754, Accuracy=0.6477013826370239\n"
     ]
    },
    {
     "name": "stderr",
     "output_type": "stream",
     "text": [
      "Epoch 79: 100%|██████| 957/957 [00:02<00:00, 341.30batch/s, acc=0.688, loss=2.3]\n"
     ]
    },
    {
     "name": "stdout",
     "output_type": "stream",
     "text": [
      "Epoch 79 validation: Cross-entropy=2.3339688777923584, Accuracy=0.6477013826370239\n"
     ]
    },
    {
     "name": "stderr",
     "output_type": "stream",
     "text": [
      "Epoch 80: 100%|██████| 957/957 [00:02<00:00, 342.73batch/s, acc=0.688, loss=2.3]\n"
     ]
    },
    {
     "name": "stdout",
     "output_type": "stream",
     "text": [
      "Epoch 80 validation: Cross-entropy=2.3338115215301514, Accuracy=0.6479950547218323\n"
     ]
    },
    {
     "name": "stderr",
     "output_type": "stream",
     "text": [
      "Epoch 81: 100%|██████| 957/957 [00:02<00:00, 345.34batch/s, acc=0.688, loss=2.3]\n"
     ]
    },
    {
     "name": "stdout",
     "output_type": "stream",
     "text": [
      "Epoch 81 validation: Cross-entropy=2.3334591388702393, Accuracy=0.647939145565033\n"
     ]
    },
    {
     "name": "stderr",
     "output_type": "stream",
     "text": [
      "Epoch 82:   8%|▍     | 74/957 [00:00<00:02, 330.17batch/s, acc=0.703, loss=2.29]IOPub message rate exceeded.\n",
      "The Jupyter server will temporarily stop sending output\n",
      "to the client in order to avoid crashing it.\n",
      "To change this limit, set the config variable\n",
      "`--ServerApp.iopub_msg_rate_limit`.\n",
      "\n",
      "Current values:\n",
      "ServerApp.iopub_msg_rate_limit=1000.0 (msgs/sec)\n",
      "ServerApp.rate_limit_window=3.0 (secs)\n",
      "\n",
      "Epoch 82: 100%|██████| 957/957 [00:02<00:00, 339.50batch/s, acc=0.688, loss=2.3]\n"
     ]
    },
    {
     "name": "stdout",
     "output_type": "stream",
     "text": [
      "Epoch 82 validation: Cross-entropy=2.3331494331359863, Accuracy=0.6484845876693726\n"
     ]
    },
    {
     "name": "stderr",
     "output_type": "stream",
     "text": [
      "Epoch 83: 100%|██████| 957/957 [00:02<00:00, 335.86batch/s, acc=0.688, loss=2.3]\n"
     ]
    },
    {
     "name": "stdout",
     "output_type": "stream",
     "text": [
      "Epoch 83 validation: Cross-entropy=2.332897901535034, Accuracy=0.6486524343490601\n"
     ]
    },
    {
     "name": "stderr",
     "output_type": "stream",
     "text": [
      "Epoch 84: 100%|██████| 957/957 [00:02<00:00, 319.28batch/s, acc=0.672, loss=2.3]\n"
     ]
    },
    {
     "name": "stdout",
     "output_type": "stream",
     "text": [
      "Epoch 84 validation: Cross-entropy=2.3331756591796875, Accuracy=0.6483027935028076\n"
     ]
    },
    {
     "name": "stderr",
     "output_type": "stream",
     "text": [
      "Epoch 85: 100%|██████| 957/957 [00:02<00:00, 330.11batch/s, acc=0.672, loss=2.3]\n"
     ]
    },
    {
     "name": "stdout",
     "output_type": "stream",
     "text": [
      "Epoch 85 validation: Cross-entropy=2.333664655685425, Accuracy=0.6478272676467896\n"
     ]
    },
    {
     "name": "stderr",
     "output_type": "stream",
     "text": [
      "Epoch 86: 100%|██████| 957/957 [00:02<00:00, 334.71batch/s, acc=0.688, loss=2.3]\n"
     ]
    },
    {
     "name": "stdout",
     "output_type": "stream",
     "text": [
      "Epoch 86 validation: Cross-entropy=2.3331992626190186, Accuracy=0.6484286785125732\n"
     ]
    },
    {
     "name": "stderr",
     "output_type": "stream",
     "text": [
      "Epoch 87: 100%|██████| 957/957 [00:02<00:00, 338.59batch/s, acc=0.688, loss=2.3]\n"
     ]
    },
    {
     "name": "stdout",
     "output_type": "stream",
     "text": [
      "Epoch 87 validation: Cross-entropy=2.3326363563537598, Accuracy=0.6488202810287476\n"
     ]
    },
    {
     "name": "stderr",
     "output_type": "stream",
     "text": [
      "Epoch 88: 100%|██████| 957/957 [00:02<00:00, 339.82batch/s, acc=0.672, loss=2.3]\n"
     ]
    },
    {
     "name": "stdout",
     "output_type": "stream",
     "text": [
      "Epoch 88 validation: Cross-entropy=2.332435131072998, Accuracy=0.6491559147834778\n"
     ]
    },
    {
     "name": "stderr",
     "output_type": "stream",
     "text": [
      "Epoch 89: 100%|██████| 957/957 [00:02<00:00, 349.02batch/s, acc=0.672, loss=2.3]\n"
     ]
    },
    {
     "name": "stdout",
     "output_type": "stream",
     "text": [
      "Epoch 89 validation: Cross-entropy=2.3323967456817627, Accuracy=0.6489601135253906\n"
     ]
    },
    {
     "name": "stderr",
     "output_type": "stream",
     "text": [
      "Epoch 90:  72%|███▌ | 685/957 [00:02<00:00, 340.89batch/s, acc=0.656, loss=2.33]IOPub message rate exceeded.\n",
      "The Jupyter server will temporarily stop sending output\n",
      "to the client in order to avoid crashing it.\n",
      "To change this limit, set the config variable\n",
      "`--ServerApp.iopub_msg_rate_limit`.\n",
      "\n",
      "Current values:\n",
      "ServerApp.iopub_msg_rate_limit=1000.0 (msgs/sec)\n",
      "ServerApp.rate_limit_window=3.0 (secs)\n",
      "\n",
      "Epoch 91: 100%|██████| 957/957 [00:02<00:00, 328.26batch/s, acc=0.672, loss=2.3]\n"
     ]
    },
    {
     "name": "stdout",
     "output_type": "stream",
     "text": [
      "Epoch 91 validation: Cross-entropy=2.3320980072021484, Accuracy=0.6492958068847656\n"
     ]
    },
    {
     "name": "stderr",
     "output_type": "stream",
     "text": [
      "Epoch 92: 100%|██████| 957/957 [00:02<00:00, 323.68batch/s, acc=0.672, loss=2.3]\n"
     ]
    },
    {
     "name": "stdout",
     "output_type": "stream",
     "text": [
      "Epoch 92 validation: Cross-entropy=2.331869602203369, Accuracy=0.649743378162384\n"
     ]
    },
    {
     "name": "stderr",
     "output_type": "stream",
     "text": [
      "Epoch 93: 100%|██████| 957/957 [00:02<00:00, 326.85batch/s, acc=0.688, loss=2.3]\n"
     ]
    },
    {
     "name": "stdout",
     "output_type": "stream",
     "text": [
      "Epoch 93 validation: Cross-entropy=2.331712484359741, Accuracy=0.6499111652374268\n"
     ]
    },
    {
     "name": "stderr",
     "output_type": "stream",
     "text": [
      "Epoch 94: 100%|██████| 957/957 [00:02<00:00, 329.60batch/s, acc=0.688, loss=2.3]\n"
     ]
    },
    {
     "name": "stdout",
     "output_type": "stream",
     "text": [
      "Epoch 94 validation: Cross-entropy=2.331686019897461, Accuracy=0.6498972177505493\n"
     ]
    },
    {
     "name": "stderr",
     "output_type": "stream",
     "text": [
      "Epoch 95: 100%|██████| 957/957 [00:02<00:00, 332.94batch/s, acc=0.688, loss=2.3]\n"
     ]
    },
    {
     "name": "stdout",
     "output_type": "stream",
     "text": [
      "Epoch 95 validation: Cross-entropy=2.3315348625183105, Accuracy=0.6498972177505493\n"
     ]
    },
    {
     "name": "stderr",
     "output_type": "stream",
     "text": [
      "Epoch 96: 100%|██████| 957/957 [00:02<00:00, 335.07batch/s, acc=0.688, loss=2.3]\n"
     ]
    },
    {
     "name": "stdout",
     "output_type": "stream",
     "text": [
      "Epoch 96 validation: Cross-entropy=2.332099437713623, Accuracy=0.6495335698127747\n"
     ]
    },
    {
     "name": "stderr",
     "output_type": "stream",
     "text": [
      "Epoch 97: 100%|██████| 957/957 [00:02<00:00, 338.93batch/s, acc=0.688, loss=2.3]\n"
     ]
    },
    {
     "name": "stdout",
     "output_type": "stream",
     "text": [
      "Epoch 97 validation: Cross-entropy=2.3317153453826904, Accuracy=0.649827241897583\n"
     ]
    },
    {
     "name": "stderr",
     "output_type": "stream",
     "text": [
      "Epoch 98: 100%|██████| 957/957 [00:02<00:00, 349.26batch/s, acc=0.688, loss=2.3]\n"
     ]
    },
    {
     "name": "stdout",
     "output_type": "stream",
     "text": [
      "Epoch 98 validation: Cross-entropy=2.332036018371582, Accuracy=0.6491139531135559\n"
     ]
    },
    {
     "name": "stderr",
     "output_type": "stream",
     "text": [
      "Epoch 99: 100%|██████| 957/957 [00:02<00:00, 345.05batch/s, acc=0.688, loss=2.3]\n"
     ]
    },
    {
     "name": "stdout",
     "output_type": "stream",
     "text": [
      "Epoch 99 validation: Cross-entropy=2.3316402435302734, Accuracy=0.649925172328949\n"
     ]
    }
   ],
   "source": [
    "# Training loop\n",
    "for epoch in range(n_epochs):\n",
    "    \n",
    "    # Initialize lists for each epoch\n",
    "    epoch_loss = []\n",
    "    epoch_acc = []\n",
    "    \n",
    "    # Set model in training mode\n",
    "    model.train()\n",
    "    \n",
    "    # Iterate through batches\n",
    "    with trange(batches_per_epoch, unit=\"batch\", mininterval=0) as bar:\n",
    "        bar.set_description(f\"Epoch {epoch}\")\n",
    "        for i in bar:\n",
    "            \n",
    "            # Grab a batch\n",
    "            initial = i * batch_size\n",
    "            X_batch = X_train[initial:initial + batch_size]\n",
    "            y_batch = y_train[initial:initial + batch_size]\n",
    "\n",
    "            # Forward pass\n",
    "            y_pred = model(X_batch)\n",
    "            loss = loss_fn(y_pred, y_batch)\n",
    "\n",
    "            # Backward pass\n",
    "            optimizer.zero_grad()\n",
    "            loss.backward()\n",
    "\n",
    "            # Update weights\n",
    "            optimizer.step()\n",
    "\n",
    "            # Compute and store metrics\n",
    "            acc = (torch.argmax(y_pred, 1) == torch.argmax(y_batch, 1)).float().mean()\n",
    "            epoch_loss.append(float(loss))\n",
    "            epoch_acc.append(float(acc))\n",
    "            bar.set_postfix(\n",
    "                loss=float(loss),\n",
    "                acc=float(acc)\n",
    "            )\n",
    "\n",
    "    # Set model in evaluation mode\n",
    "    model.eval()\n",
    "\n",
    "    # Compute prediction\n",
    "    y_pred = model(X_val)\n",
    "    loss_test = loss_fn(y_pred, y_val)\n",
    "    acc_test = (torch.argmax(y_pred, 1) == torch.argmax(y_val, 1)).float().mean()\n",
    "\n",
    "    loss_test = float(loss_test)\n",
    "    acc_test = float(acc_test)\n",
    "\n",
    "    # Append accuracy and loss data to lists for training and validation\n",
    "    train_loss_hist.append(np.mean(epoch_loss))\n",
    "    train_acc_hist.append(np.mean(epoch_acc))\n",
    "    test_loss_hist.append(loss_test)\n",
    "    test_acc_hist.append(acc_test)\n",
    "\n",
    "    # Update the model if accuracy is improved\n",
    "    if acc > best_acc:\n",
    "        best_acc = acc\n",
    "        torch.save(model, 'linear_model.pth')\n",
    "    print(f\"Epoch {epoch} validation: Cross-entropy={loss_test}, Accuracy={acc_test}\")"
   ]
  },
  {
   "cell_type": "code",
   "execution_count": 17,
   "id": "4e8d0b22-14b7-4c1b-b47c-7b05e97f74c8",
   "metadata": {
    "tags": []
   },
   "outputs": [
    {
     "name": "stderr",
     "output_type": "stream",
     "text": [
      "/tmp/ipykernel_48874/3046023412.py:12: UserWarning: Implicit dimension choice for softmax has been deprecated. Change the call to include dim=X as an argument.\n",
      "  return torch.nn.functional.softmax(x, dim=None)\n"
     ]
    }
   ],
   "source": [
    "# Restore best model\n",
    "model = torch.load('linear_model.pth')\n",
    "\n",
    "# Compute predictions\n",
    "y_pred = model(X_test)\n",
    "y_pred = np.argmax(y_pred.detach().numpy(), axis=-1)\n",
    "\n",
    "# Get predictions for test data\n",
    "y_test_fin = np.argmax(y_test.detach().numpy(), axis=-1)"
   ]
  },
  {
   "cell_type": "code",
   "execution_count": 18,
   "id": "af051d50-974a-4fe8-9450-fbf5ee53da9f",
   "metadata": {
    "tags": []
   },
   "outputs": [
    {
     "data": {
      "image/png": "[encoded data removed]",
      "text/plain": [
       "<Figure size 1200x800 with 2 Axes>"
      ]
     },
     "metadata": {},
     "output_type": "display_data"
    }
   ],
   "source": [
    "# Generate confusion matrix\n",
    "cm = sklearn.metrics.confusion_matrix(y_test_fin, y_pred)\n",
    "cm_v2 = np.delete(cm, -1, 0)\n",
    "cm_v2 = np.delete(cm_v2, -1, 1)\n",
    "cm_v2 = cm_v2 / np.sum(cm_v2)\n",
    "\n",
    "# Plot the confusion matrix\n",
    "axis_ticks = [metadata['cell_types'][i] for i in range(1, len(cm_v2) + 1)]\n",
    "plt.figure(figsize = (12,8))\n",
    "s = sns.heatmap(cm_v2, annot=True, annot_kws={\"size\": 7}, cmap=\"magma\")\n",
    "s.set(xlabel=\"Predicted\", ylabel=\"Actual\", xticklabels=axis_ticks, yticklabels=axis_ticks)\n",
    "plt.xticks(rotation=90)\n",
    "plt.yticks(rotation=0)\n",
    "plt.show()"
   ]
  },
  {
   "cell_type": "markdown",
   "id": "e295dada-52b7-49d2-b149-3024e79335f8",
   "metadata": {},
   "source": [
    "Let's also plot the loss and accuracy data to see how it evolves from epoch to epoch."
   ]
  },
  {
   "cell_type": "code",
   "execution_count": 19,
   "id": "5b73250c-641e-4dab-a166-506985033bac",
   "metadata": {
    "tags": []
   },
   "outputs": [
    {
     "data": {
      "image/png": "[encoded data removed]",
      "text/plain": [
       "<Figure size 640x480 with 1 Axes>"
      ]
     },
     "metadata": {},
     "output_type": "display_data"
    },
    {
     "data": {
      "image/png": "[encoded data removed]",
      "text/plain": [
       "<Figure size 640x480 with 1 Axes>"
      ]
     },
     "metadata": {},
     "output_type": "display_data"
    }
   ],
   "source": [
    "# Plot the loss and accuracy\n",
    "plt.plot(train_loss_hist, label=\"train\")\n",
    "plt.plot(test_loss_hist, label=\"test\")\n",
    "plt.xlabel(\"epochs\")\n",
    "plt.ylabel(\"cross entropy\")\n",
    "plt.legend()\n",
    "plt.show()\n",
    "\n",
    "plt.plot(train_acc_hist, label=\"train\")\n",
    "plt.plot(test_acc_hist, label=\"test\")\n",
    "plt.xlabel(\"epochs\")\n",
    "plt.ylabel(\"accuracy\")\n",
    "plt.legend()\n",
    "plt.show()"
   ]
  },
  {
   "cell_type": "markdown",
   "id": "b78f18d1-f9ec-403b-88a3-9556da07601f",
   "metadata": {},
   "source": [
    "Last thing we need is a function that accepts an X and y, preprocesses data, passes it through our model, and returns a dictionary mapping the segmentation mask IDs to celltype codes."
   ]
  },
  {
   "cell_type": "code",
   "execution_count": 20,
   "id": "df0685b2-6613-42ca-9fd7-da578d4273b3",
   "metadata": {
    "tags": []
   },
   "outputs": [],
   "source": [
    "def generate_dict(X, y):\n",
    "    '''Take in X and y, preprocesses data, passes it through our model, and\n",
    "    returns a dictionary mapping segmentation mask IDs to celltype codes.'''\n",
    "    \n",
    "    # Normalize data\n",
    "    flattened_X = np.reshape(X[0], (X[0].shape[0]*X[0].shape[1], X[0].shape[2]))\n",
    "    maxValsX = np.max(flattened_X, axis=0)\n",
    "    maxValsX[maxValsX == 0] = 1\n",
    "    normalized_X = X / maxValsX\n",
    "\n",
    "    # Retrieve nuclear segmentation data\n",
    "    cellData = y[0,...,0]\n",
    "    \n",
    "    # Create DataFrame of mean intensities\n",
    "    df1 = pd.DataFrame(\n",
    "    measure.regionprops_table(cellData, \n",
    "                              intensity_image=normalized_X[0], \n",
    "                              properties=['label','mean_intensity'],\n",
    "    )).set_index('label')\n",
    "    \n",
    "    # Add channel names\n",
    "    dictChannels = {}\n",
    "    for j in range(len(metadata['channels'])):\n",
    "        dictChannels[df1.columns.values[j]] = metadata['channels'][j]\n",
    "\n",
    "    # Rename columns to channel names\n",
    "    final_tdf = df1.rename(columns=dictChannels)\n",
    "    \n",
    "    # All columns\n",
    "    allCols = np.array(list(range(0,51)))\n",
    "    toKeep = np.array([10, 27, 20, 19, 24, 34, 44, 15, 28, 43,  9, 11,  0, 45, 50, 14, 37,\n",
    "       25, 26, 49]) # from sorting performed earlier\n",
    "    colstodelete = np.setdiff1d(allCols, toKeep)\n",
    "\n",
    "    # Return dataframe with only desired channels\n",
    "    final_tdf = final_tdf.drop(final_tdf.columns[colstodelete], axis=1)\n",
    "    \n",
    "    # Initialize X and y as before\n",
    "    X_test = final_tdf.to_numpy()\n",
    "\n",
    "    # Convert data into tensors\n",
    "    X_test = torch.tensor(X_test, dtype=torch.float32)\n",
    "\n",
    "    # Restore best linear model\n",
    "    model = torch.load('linear_model.pth')\n",
    "    \n",
    "    # Pass data through model\n",
    "    y_pred_test = model(X_test)\n",
    "    y_pred_test = np.argmax(y_pred_test.detach().numpy(), axis=-1)\n",
    "    \n",
    "    # Create and return dictionary\n",
    "    test_keys = np.arange(1, len(y_pred_test))\n",
    "    res = dict(zip(test_keys, y_pred_test))\n",
    "    return res"
   ]
  }
 ],
 "metadata": {
  "kernelspec": {
   "display_name": "Python 3 (ipykernel)",
   "language": "python",
   "name": "python3"
  },
  "language_info": {
   "codemirror_mode": {
    "name": "ipython",
    "version": 3
   },
   "file_extension": ".py",
   "mimetype": "text/x-python",
   "name": "python",
   "nbconvert_exporter": "python",
   "pygments_lexer": "ipython3",
   "version": "3.10.10"
  }
 },
 "nbformat": 4,
 "nbformat_minor": 5
}
